{
 "cells": [
  {
   "cell_type": "code",
   "execution_count": 1,
   "id": "8a94330e-595a-4950-93b9-5a63cbe931cc",
   "metadata": {},
   "outputs": [],
   "source": [
    "import numpy as np\n",
    "import matplotlib.image as mpimg\n",
    "import matplotlib.pyplot as plt\n",
    "import torch as tf\n",
    "from torch.autograd.functional import jacobian\n",
    "from functools import reduce\n",
    "import itertools\n",
    "import matplotlib.colors as mcolors\n",
    "\n",
    "cuda0 = tf.device('cuda:0')\n",
    "cpu0 = tf.device('cpu:0')"
   ]
  },
  {
   "cell_type": "markdown",
   "id": "9a778578-6cf1-4bd2-98e6-28a158199df8",
   "metadata": {},
   "source": [
    "# Domain Transform filter"
   ]
  },
  {
   "cell_type": "markdown",
   "id": "7810f419-cf7d-4303-bb9e-0bc68f4b964c",
   "metadata": {},
   "source": [
    "Here we provide a PyTorch implementation of the 2D Domain Transform filter from \"Domain Transform for Edge-Aware Image and Video Processing\" (Gastal and Oliveira)"
   ]
  },
  {
   "cell_type": "code",
   "execution_count": 2,
   "id": "b5c44189-c1f8-45ca-9f3f-01c2272445c5",
   "metadata": {},
   "outputs": [],
   "source": [
    "def domain_transform_1d(idata, sigma_s, sigma_r, p=1):\n",
    "    dx = np.diff(idata, axis=0)\n",
    "    dx = np.pad(dx, ((1,0),(0,0)), \"constant\", constant_values=0)\n",
    "    \n",
    "    s_over_r = np.float64(sigma_s) / np.float64(sigma_r)\n",
    "    one = np.float64(1)\n",
    "    inv_p = one / p\n",
    "    dx = ( one + (s_over_r * np.abs(dx))**p ) ** inv_p\n",
    "    return dx\n",
    "    \n",
    "def RF_1d(idata, sigma_s, sigma_r, iterations=1, quality=2):\n",
    "\n",
    "    h,w = np.shape(idata)\n",
    "    odata   = np.copy(idata)\n",
    "    sigma_H = sigma_s;\n",
    "    \n",
    "    for J in range(0,iterations):\n",
    "        dx= domain_transform_1d(odata, sigma_s, sigma_r)\n",
    "\n",
    "        for I in range(0, quality):\n",
    "            sigma_H_i = sigma_H * np.sqrt(3) * 2**(quality - (I + 1)) / np.sqrt(4**quality - 1);\n",
    "            a = np.exp(-np.sqrt(2) / sigma_H_i)\n",
    "\n",
    "            # Forward-backward filter for the first dimension\n",
    "            for i in range(1,h):\n",
    "                odata[i,:] = odata[i,:] + np.power(a, dx[i,:]) * (odata[i-1,:] - odata[i,:])\n",
    "            for i in range(h-2,0,-1):\n",
    "                odata[i,:,] = odata[i,:] + np.power(a, dx[i+1,:]) * (odata[i+1,:] - odata[i,:])\n",
    "    return odata\n",
    "\n",
    "def domain_transform_2d(idata, sigma_s, sigma_r, p=1):\n",
    "    dy = np.diff(idata, axis=0)\n",
    "    dx = np.diff(idata, axis=1)\n",
    "\n",
    "    dy = np.pad(dy, ((1,0),(0,0)), \"constant\", constant_values=0)\n",
    "    dx = np.pad(dx, ((0,0),(1,0)), \"constant\", constant_values=0)\n",
    "    \n",
    "    s_over_r = np.float64(sigma_s) / np.float64(sigma_r)\n",
    "    one = np.float64(1)\n",
    "    inv_p = one / p\n",
    "    dy = ( one + (s_over_r * np.abs(dy))**p ) ** inv_p\n",
    "    dx = ( one + (s_over_r * np.abs(dx))**p ) ** inv_p\n",
    "    \n",
    "    return dy,dx\n",
    "\n",
    "def RF_2d(idata, sigma_s, sigma_r, iterations=1, quality=2):\n",
    "\n",
    "    h, w= np.shape(idata)\n",
    "    odata   = np.copy(idata)\n",
    "    sigma_H = sigma_s;\n",
    "    \n",
    "    for J in range(0,iterations):\n",
    "        dy, dx = domain_transform_2d(odata, sigma_s, sigma_r)\n",
    "\n",
    "        for I in range(0, quality):\n",
    "            # Compute the required std. deviation of this iteration based on\n",
    "            # the total number of iterations given in the parameter `quality`\n",
    "            sigma_H_i = sigma_H * np.sqrt(3) * 2**(quality - (I + 1)) / np.sqrt(4**quality - 1);\n",
    "\n",
    "            # Compute the feedback coefficient from the desired std. deviation\n",
    "            a = np.exp(-np.sqrt(2) / sigma_H_i)\n",
    "\n",
    "            # Forward-backward filter for the first dimension\n",
    "            for i in range(1,h):\n",
    "                odata[i,:] = odata[i,:] + np.power(a, dy[i,:]) * (odata[i-1,:] - odata[i,:])\n",
    "            for i in range(h-2,0,-1):\n",
    "                odata[i,:] = odata[i,:] + np.power(a, dy[i+1,:]) * (odata[i+1,:] - odata[i,:])\n",
    "\n",
    "            # Forward-backward filter for the second dimension\n",
    "            for j in range(1,w):\n",
    "                odata[:,j] = odata[:,j] + np.power(a, dx[:,j]) * (odata[:,j-1] - odata[:,j])\n",
    "            for j in range(w-2,0,-1):\n",
    "                odata[:,j] = odata[:,j] + np.power(a, dx[:,j+1]) * (odata[:,j+1] - odata[:,j])\n",
    "                \n",
    "    return odata\n"
   ]
  },
  {
   "cell_type": "markdown",
   "id": "b44d5b2c-c493-4f19-98f6-229f71fa8a4a",
   "metadata": {},
   "source": [
    "# Generate Input"
   ]
  },
  {
   "cell_type": "markdown",
   "id": "f8ed56ac-a584-4da2-a3f6-2ca5f8daf140",
   "metadata": {},
   "source": [
    "Generates the ground-truth material weight for the heat propagation"
   ]
  },
  {
   "cell_type": "code",
   "execution_count": 10,
   "id": "7abf9703-ad73-4bbc-8d6b-96405772e272",
   "metadata": {},
   "outputs": [
    {
     "data": {
      "text/plain": [
       "<matplotlib.image.AxesImage at 0x1e1bebb90d0>"
      ]
     },
     "execution_count": 10,
     "metadata": {},
     "output_type": "execute_result"
    },
    {
     "data": {
      "image/png": "[encoded data removed]",
      "text/plain": [
       "<Figure size 640x480 with 1 Axes>"
      ]
     },
     "metadata": {},
     "output_type": "display_data"
    }
   ],
   "source": [
    "def zero_boundary(x):\n",
    "    res = x*1\n",
    "    res[-1,:]=0.00\n",
    "    res[:,-1]=0.00\n",
    "\n",
    "    return res\n",
    "\n",
    "N = 35\n",
    "plate = np.ones((N,N) , dtype= np.float32) * 0.85\n",
    "for i in range(int(N/4),int(N/4)+3):\n",
    "    for j in range(int(N/2),int(N-N/4)):\n",
    "        plate[i,j]=0.3\n",
    "        #plate[i,j]=0\n",
    "        \n",
    "for i in range(int(N/2.75),int(N/2.5)+2):\n",
    "    for j in range(int(N/6),int(N-N/2.5)):\n",
    "        plate[i,j]=0.3 #middle\n",
    "        #plate[i,j]=0\n",
    "\n",
    "\n",
    "for i in range(int(N/5),int(N/5)+2):\n",
    "    for j in range(int(N/4),int(N/4 + N/5)):\n",
    "        plate[i,j]=0.5 #upper left\n",
    "        #plate[i,j]=0\n",
    "        \n",
    "\n",
    "for i in range(int(N - N/4),int(N -5)):\n",
    "    for j in range(int(N/6),int(N/2)):\n",
    "        plate[i,j]=0.5 #lower left\n",
    "        #plate[i,j]=0\n",
    "        \n",
    "\n",
    "for i in range(int(3/4*N),int(3/4*N)+2):\n",
    "    for j in range(int(3/4*N),N-1):\n",
    "        plate[i,j]=0.5 #lower right\n",
    "        #plate[i,j]=0\n",
    "\n",
    "for i in range(N):\n",
    "    for j in range(N):\n",
    "        pass\n",
    "        #plate[i,j] += 1*np.random.random()/6\n",
    "\n",
    "\n",
    "\n",
    "plate = np.transpose(plate)\n",
    "plate = zero_boundary(plate)\n",
    "\n",
    "plt.imshow(np.transpose(plate),cmap='gray', vmin=0, vmax=1)"
   ]
  },
  {
   "cell_type": "markdown",
   "id": "f905ef83-fce1-49f3-8674-49e0cdbb5dab",
   "metadata": {},
   "source": [
    "# Diffusion functions"
   ]
  },
  {
   "cell_type": "code",
   "execution_count": 4,
   "id": "1bc173f0-2f4c-40fa-b7e2-5755e3ef22c8",
   "metadata": {},
   "outputs": [],
   "source": [
    "def get_Dy(N):\n",
    "    def generate_matrix(x):\n",
    "        X = tf.reshape(x,(N,N))\n",
    "        Y = X - tf.roll(X, shifts=1, dims=1)\n",
    "        y = tf.flatten(Y)\n",
    "        return y\n",
    "       \n",
    "    return jacobian(generate_matrix, tf.ones(N*N, device = cuda0))\n",
    "\n",
    "def get_Dx(N):\n",
    "    def generate_matrix(x):\n",
    "        X = tf.reshape(x,(N,N))\n",
    "        Y = X - tf.roll(X, shifts=1, dims=0)\n",
    "        y = tf.flatten(Y)\n",
    "        return y\n",
    "       \n",
    "    return jacobian(generate_matrix, tf.ones(N*N, device = cuda0))\n",
    "\n",
    "Dy = get_Dy(N)\n",
    "Dx = get_Dx(N)\n",
    "Dxt = tf.transpose(Dx,0,1)\n",
    "Dyt = tf.transpose(Dy,0,1)\n",
    "DxD = tf.matmul(Dxt,Dx)\n",
    "DyD = tf.matmul(Dyt,Dy)"
   ]
  },
  {
   "cell_type": "markdown",
   "id": "a87bbb18-0f90-418e-85c7-f73ebb37097d",
   "metadata": {},
   "source": [
    "Manually computing derivatives\n",
    "\n",
    "$Y^{t+1}_{ij} = Y^t_{ij} + W_{i,j+1}\\big( Y^{t}_{ij+1} - Y^{t}_{ij}  \\big) + W_{i,j}\\big( Y^{t}_{ij-1} - Y^{t}_{ij}  \\big)$"
   ]
  },
  {
   "cell_type": "markdown",
   "id": "c1cfb388-e65f-46b6-8919-5c6c63e360b8",
   "metadata": {},
   "source": [
    "\\[\\begin{matrix}\n",
    "\\frac{\\partial Y^{t+1}_{ij}}{\\partial W_{kl}} = \\frac{\\partial Y^{t}_{ij}}{\\partial W_{kl}} + \\delta_{i,j+1,k,l} \\big( Y^{t}_{ij+1} - Y^{t}_{ij}  \\big) +  W_{i,j+1} \\big( \\frac{\\partial Y^{t}_{ij+1}}{\\partial W_{kl}} - \\frac{\\partial Y^{t}_{ij}}{\\partial W_{kl}}  \\big)\\\\\\ \n",
    "+  \\delta_{i,j,k,l} \\big( Y^{t}_{ij-1} - Y^{t}_{ij}  \\big) +  W_{i,j} \\big( \\frac{\\partial Y^{t}_{ij-1}}{\\partial W_{kl}} - \\frac{\\partial Y^{t}_{ij}}{\\partial W_{kl}}  \\big)\n",
    "\\end{matrix}\\]"
   ]
  },
  {
   "cell_type": "code",
   "execution_count": 5,
   "id": "668c6824-0f4b-4b83-b95e-fc7e8e48347d",
   "metadata": {},
   "outputs": [],
   "source": [
    "def tf_flatdiag(M):\n",
    "    return tf.diag(tf.flatten(M))\n",
    "\n",
    "def tf_Nshift(M,N,s):\n",
    "    M = tf.flatten(M)\n",
    "    M = tf.reshape(M,(N*N*N,N))\n",
    "    M = tf.roll(M, shifts=s, dims=1)\n",
    "    M = tf.flatten(M)\n",
    "    M = tf.reshape(M,(N*N, N*N))\n",
    "    return M\n",
    "\n",
    "def tf_Nshift2(M,N,s):\n",
    "    M = tf.transpose(M,0,1)\n",
    "    M = tf.flatten(M)\n",
    "    M = tf.reshape(M,(N*N*N,N))\n",
    "    M = tf.roll(M, shifts=s, dims=1)\n",
    "    M = tf.flatten(M)\n",
    "    M = tf.reshape(M,(N*N, N*N))\n",
    "    M = tf.transpose(M,0,1)\n",
    "    return M\n",
    "\n",
    "#compute jacobian manually\n",
    "def tf_diffusion_1d_manual(I,weights,T,N,l):\n",
    "    def functional(x):\n",
    "        J = tf.eye(N*N,device=cuda0)\n",
    "        res = tf.tensor(I, device=cuda0)\n",
    "        W = tf.reshape(x,(N,N))\n",
    "        Id = tf.eye(N,device=cuda0)\n",
    "        \n",
    "        for t in range(T):\n",
    "            prev = 1*res\n",
    "            res = prev + l*tf.roll(W, shifts=1 ,dims=1)*(tf.roll(prev, shifts=1, dims=1) - prev) #fwd derivative\n",
    "            res = res + l*W*(tf.roll(prev, shifts=-1, dims=1) - prev) #bwd derivative\n",
    "\n",
    "            J0 = l*(tf.roll(prev, shifts=-1, dims=1) - prev) #bwd\n",
    "            J0 = tf.diag(tf.flatten(J0))\n",
    "\n",
    "            J1 = l*(tf.roll(prev, shifts=1, dims=1) - prev) #fwd\n",
    "            J1 = tf.diag(tf.flatten(J1))\n",
    "            J1 = tf_Nshift(J1,N,-1)\n",
    "\n",
    "            J_new = J*(t>0) + J0 + J1\n",
    "\n",
    "            #nonlinear terms\n",
    "            J_new += l*tf.reshape(tf.flatten(tf.roll(W, shifts=1,dims=1)), (N*N,1))*(tf_Nshift2(J,N,1) - J)*(t>0) #fwd\n",
    "            J_new += l*tf.reshape(tf.flatten(W), (N*N,1))*(tf_Nshift2(J,N,-1) - J)*(t>0)  #bwd\n",
    "\n",
    "      \n",
    "            J = J_new*1\n",
    "            \n",
    "        y = tf.flatten(res)\n",
    "        return y, J\n",
    "    x = tf.tensor(weights, device=cuda0)\n",
    "    x = tf.flatten(x)\n",
    "    return functional(x)\n",
    "\n",
    "def tf_diffusion_1d(I,weights,T,N,l, jacob=True):\n",
    "\n",
    "    def functional(x):\n",
    "        res = tf.tensor(I, device=cuda0)\n",
    "        W = tf.reshape(x,(N,N))\n",
    "        for t in range(T):\n",
    "            prev = 1*res\n",
    "            res = prev + l*tf.roll(W, shifts=1 ,dims=1)*(tf.roll(prev, shifts=1, dims=1) - prev) #fwd\n",
    "            res = res + l*W*(tf.roll(prev, shifts=-1, dims=1) - prev) #bwd\n",
    "            \n",
    "        y = tf.flatten(res)\n",
    "        return y\n",
    "\n",
    "    if jacob==False:\n",
    "        x = tf.tensor(weights, device=cuda0)\n",
    "        x = tf.flatten(x)\n",
    "        F = functional(x)\n",
    "        F = F.detach().cpu()\n",
    "        return np.array(tf.reshape(F,(N,N)))\n",
    "\n",
    "    return functional(weights), jacobian(functional,weights, strategy =\"forward-mode\", vectorize=True)\n",
    "\n",
    "def tf_diffusion_2d(I,weights,T,N,l, jacob=True):\n",
    "\n",
    "    def functional(x):\n",
    "        res = tf.tensor(I, device=cuda0)\n",
    "        W = tf.reshape(x,(N,N))\n",
    "        for t in range(T):\n",
    "            prev = 1*res\n",
    "            res = prev + l*tf.roll(W, shifts=1 ,dims=1)*(tf.roll(prev, shifts=1, dims=1) - prev) #fwd\n",
    "            res = res + l*W*(tf.roll(prev, shifts=-1, dims=1) - prev) #bwd\n",
    "\n",
    "            res = res + l*tf.roll(W, shifts=1 ,dims=0)*(tf.roll(prev, shifts=1, dims=0) - prev) #up\n",
    "            res = res + l*W*(tf.roll(prev, shifts=-1, dims=0) - prev)  #dwn\n",
    "            \n",
    "        y = tf.flatten(res)\n",
    "        return y\n",
    "\n",
    "    if jacob==False:\n",
    "        x = tf.tensor(weights, device=cuda0)\n",
    "        x = tf.flatten(x)\n",
    "        F = functional(x)\n",
    "        F = F.detach().cpu()\n",
    "        return np.array(tf.reshape(F,(N,N)))\n",
    "    \n",
    "    return functional(weights), jacobian(functional,weights)\n"
   ]
  },
  {
   "cell_type": "markdown",
   "id": "ac1698d9-c7ef-4dcd-9e54-8d25d87893c6",
   "metadata": {},
   "source": [
    "# Propagation Example"
   ]
  },
  {
   "cell_type": "code",
   "execution_count": 11,
   "id": "7b4a417f-77ba-4d07-a26e-a60aef2f93a3",
   "metadata": {},
   "outputs": [
    {
     "name": "stdout",
     "output_type": "stream",
     "text": [
      "0.0001919269561767578\n",
      "-2.4318695068359375e-05\n"
     ]
    },
    {
     "data": {
      "text/plain": [
       "Text(0.5, 1.0, '2d propagation')"
      ]
     },
     "execution_count": 11,
     "metadata": {},
     "output_type": "execute_result"
    },
    {
     "data": {
      "image/png": "[encoded data removed]",
      "text/plain": [
       "<Figure size 640x480 with 3 Axes>"
      ]
     },
     "metadata": {},
     "output_type": "display_data"
    }
   ],
   "source": [
    "I = np.zeros((N,N), dtype = np.float32)\n",
    "I[:,0]=100\n",
    "I[-1,0] = 0\n",
    "\n",
    "l = 0.25\n",
    "T = 300\n",
    "\n",
    "O1 = tf_diffusion_1d(I,plate,T,N,l, jacob= False)\n",
    "O2 = tf_diffusion_2d(I,plate,T,N,l, jacob= False)\n",
    "\n",
    "print(sum(sum(I)) - sum(sum(O1)))\n",
    "print(sum(sum(I)) - sum(sum(O2)))\n",
    "\n",
    "fig, (ax1, ax2, ax3) = plt.subplots(1, 3)\n",
    "\n",
    "ax1.imshow(np.transpose(I),cmap='gray', vmin=0, vmax=np.max(I))\n",
    "ax2.imshow(np.transpose(O1),cmap='gray', vmin=0, vmax=np.max(O1))\n",
    "ax3.imshow(np.transpose(O2),cmap='gray', vmin=0, vmax=np.max(O2))\n",
    "\n",
    "ax1.set_title(\"Input heat\")\n",
    "ax2.set_title(\"1d propagation\")\n",
    "ax3.set_title(\"2d propagation\")"
   ]
  },
  {
   "cell_type": "markdown",
   "id": "c3e97317-e5df-4cc3-9e99-ad58f2706768",
   "metadata": {},
   "source": [
    "# ADMM method"
   ]
  },
  {
   "cell_type": "markdown",
   "id": "238972d8-70da-4d3f-8556-3c6f23f6dada",
   "metadata": {},
   "source": [
    "The goal is to minimize\n",
    "\n",
    "$E(W) = \\|F(W) - O\\|^2 + \\mu\\|\\partial_x\\,W\\|^2 + \\mu\\|\\partial_y\\,W\\|^2$"
   ]
  },
  {
   "cell_type": "markdown",
   "id": "2f2d3f10-ab6e-461b-8a94-61d7d701463e",
   "metadata": {},
   "source": [
    "Consider splitting into\n",
    "\n",
    "$E_1(W) =  \\|F(W) - O\\|^2 + \\mu\\|\\partial_x\\,W\\|^2$\n",
    "\n",
    "$E_2(W) =  \\mu\\|\\partial_y\\,W\\|^2$"
   ]
  },
  {
   "cell_type": "markdown",
   "id": "f6989644-fcf5-4631-b3c8-50f098b20976",
   "metadata": {},
   "source": [
    "From which we obtain the Lagrangian\n",
    "\n",
    "$L_{2\\rho}(f,h,r) = E_1(f) + E_2(h) + r^T(f - h) + \\rho\\|{f-h}\\|^2$"
   ]
  },
  {
   "cell_type": "code",
   "execution_count": 43,
   "id": "cd118eed-7a54-4d1f-a798-9859bbd1f5bf",
   "metadata": {},
   "outputs": [],
   "source": [
    "def tf_ADMM_method(I, N, T, O, Iter, mu, rho, x0, l, format = False, manual = True, Iter_f = 1, mode = 'homogeneous'): #input, output, and elapsed time T are known\n",
    "    f = x0*1\n",
    "    h = f*1\n",
    "    r = f*0\n",
    "    Id = tf.eye(N*N, device = cuda0)\n",
    "    if mode==\"homogeneous\":\n",
    "        mu_x = mu*1\n",
    "        mu_y = mu*1\n",
    "\n",
    "    elif mode ==\"edgeaware\":\n",
    "        mu_x = 0\n",
    "        mu_y = 0\n",
    "    \n",
    "    for it in range(Iter):\n",
    "        #minimize f\n",
    "        for tt in range(Iter_f):\n",
    "            if manual:\n",
    "                F, J = tf_diffusion_1d_manual(I,f,T,N,l)\n",
    "            else:\n",
    "                F, J = tf_diffusion_1d(I,f,T,N,l)\n",
    "            Jt = tf.transpose(J,0,1)\n",
    "            \n",
    "            lhs = tf.matmul(Jt,J) + rho*Id\n",
    "            rhs = -tf.matmul(Jt, F - O - tf.matmul(J,f)) - r/2 + rho*h\n",
    "            \n",
    "            f = tf.linalg.solve(lhs,tf.reshape(rhs,(N*N,1)))\n",
    "            f = tf.flatten(f)\n",
    "            \n",
    "                \n",
    "        #minimize h\n",
    "        if mode =='homogeneous':\n",
    "            lhs = Id + mu_x*DxD/rho + mu_y*DyD\n",
    "            rhs = f + r/(2*rho)\n",
    "            h = tf.linalg.solve(lhs,tf.reshape(rhs,(N*N,1)))\n",
    "            h = tf.flatten(h)\n",
    "        elif mode =='edgeaware':\n",
    "            color_dev = 0.1\n",
    "            spatial_dev = np.sqrt((2*mu*(rho + 2*mu))/(rho*(rho+ 4*mu)))\n",
    "            h2d = tf.reshape(f + r/(2*rho),(N,N))\n",
    "            \n",
    "            #apply DT filter\n",
    "            idata = np.array(h2d.detach().cpu(), dtype = np.float32)\n",
    "            idata = RF_2d(idata, spatial_dev, color_dev,iterations = 3, quality=3)\n",
    "            h2d = tf.tensor(idata, device=cuda0)\n",
    "    \n",
    "            h = tf.flatten(h2d)\n",
    "\n",
    "        #update r\n",
    "        r = r + 2*rho*(f-h)\n",
    "        \n",
    "    if format:\n",
    "        h =h.detach().cpu()\n",
    "        return np.array(tf.reshape(h, (N,N)))\n",
    "    return h"
   ]
  },
  {
   "cell_type": "code",
   "execution_count": 44,
   "id": "6a578695-4208-49d3-bd18-0fa7fab8a18b",
   "metadata": {},
   "outputs": [],
   "source": [
    "def misfit(I,x,T,N,l,Ot):\n",
    "    F, J = tf_diffusion_1d_manual(I,x,T,N,l)\n",
    "    err = tf.norm(F - Ot)**2\n",
    "    return err\n",
    "\n",
    "\n",
    "def apply_full_method(I, T, N, plate, mu, rho, O, l, inner_iter, outer_iter, iter_f, mode):\n",
    "    #-----------------------------------------------------------------------\n",
    "    #Prepare received signal------------------------------------------------\n",
    "    #-----------------------------------------------------------------------\n",
    "    Ot = tf.tensor(O, device = cuda0)\n",
    "    Ot = tf.flatten(Ot)\n",
    "    \n",
    "    #-----------------------------------------------------------------------\n",
    "    #Prepare starting iterations -------------------------------------------\n",
    "    #-----------------------------------------------------------------------\n",
    "    f = np.ones((N,N),dtype = np.float32)\n",
    "    f = zero_boundary(f)\n",
    "    f = tf.flatten(tf.tensor(f, device = cuda0))\n",
    "    err = misfit(I,f,T,N,l,Ot)\n",
    "    \n",
    "    for t in range(outer_iter):\n",
    "        new_f = tf_ADMM_method(I, N, T, Ot, inner_iter, mu, rho, f, l, Iter_f = iter_f, mode = mode)\n",
    "        new_err = misfit(I,new_f,T,N,l,Ot)\n",
    "        print(\"new = {}\".format(new_err))\n",
    "        if new_err <= err:\n",
    "            f = new_f\n",
    "            err = new_err\n",
    "            rho = rho*0.90\n",
    "            print(\"sucessful iteration\")\n",
    "        else:\n",
    "            rho = rho*1.25\n",
    "            print(\"backtracking\")\n",
    "   \n",
    "    f = f.detach().cpu()\n",
    "    f = np.array(tf.reshape(f, (N,N)))\n",
    "\n",
    "    return f"
   ]
  },
  {
   "cell_type": "markdown",
   "id": "42aca7fe-db55-4da8-bcaf-331450f0236d",
   "metadata": {},
   "source": [
    "# Experiments"
   ]
  },
  {
   "cell_type": "code",
   "execution_count": 75,
   "id": "d0c25da6-78cf-4a7e-9ad0-e20706331fd3",
   "metadata": {
    "scrolled": true
   },
   "outputs": [
    {
     "name": "stderr",
     "output_type": "stream",
     "text": [
      "C:\\Users\\herme\\AppData\\Local\\Temp\\ipykernel_11652\\3993616261.py:53: UserWarning: To copy construct from a tensor, it is recommended to use sourceTensor.clone().detach() or sourceTensor.clone().detach().requires_grad_(True), rather than torch.tensor(sourceTensor).\n",
      "  x = tf.tensor(weights, device=cuda0)\n"
     ]
    },
    {
     "name": "stdout",
     "output_type": "stream",
     "text": [
      "new = 2921.5908203125\n",
      "sucessful iteration\n",
      "new = 2644.546142578125\n",
      "sucessful iteration\n",
      "new = 2645.89990234375\n",
      "sucessful iteration\n"
     ]
    }
   ],
   "source": [
    "#-----------------------------------------------------------------------\n",
    "#Prepare input ---------------------------------------------------------\n",
    "#-----------------------------------------------------------------------\n",
    "I = np.zeros((N,N), np.float32)\n",
    "I[:,0]=200\n",
    "I[-1,0]=0\n",
    "\n",
    "l = 0.25\n",
    "T = 150\n",
    "mu = 2\n",
    "rho = 10\n",
    "\n",
    "#-----------------------------------------------------------------------\n",
    "#Prepare output --------------------------------------------------------\n",
    "#-----------------------------------------------------------------------\n",
    "O = tf_diffusion_2d(I,plate,T,N,l, jacob= False)\n",
    "np.random.seed(0)\n",
    "O += np.random.random((N,N))/4\n",
    "\n",
    "#ADMM Parameters\n",
    "inner_iter = 32\n",
    "outer_iter = 1\n",
    "\n",
    "f_tikhonov = apply_full_method(I, T, N, plate, mu, rho, O, l, inner_iter, outer_iter, 1, \"homogeneous\")\n",
    "f_original = apply_full_method(I, T, N, plate, 0, rho, O, l , inner_iter, outer_iter, 1, \"homogeneous\")\n",
    "f_domaintransform = apply_full_method(I, T, N, plate, mu, rho, O, l, inner_iter, outer_iter, 1, \"edgeaware\")"
   ]
  },
  {
   "cell_type": "code",
   "execution_count": 76,
   "id": "176169bd-d862-43c4-9207-d3dbfe10519a",
   "metadata": {},
   "outputs": [
    {
     "data": {
      "text/plain": [
       "<matplotlib.image.AxesImage at 0x1e1f074b0e0>"
      ]
     },
     "execution_count": 76,
     "metadata": {},
     "output_type": "execute_result"
    },
    {
     "data": {
      "image/png": "[encoded data removed]",
      "text/plain": [
       "<Figure size 800x500 with 5 Axes>"
      ]
     },
     "metadata": {},
     "output_type": "display_data"
    }
   ],
   "source": [
    "plt.rcParams['figure.figsize'] = (8, 5)\n",
    "fig, (ax1, ax2, ax3, ax4, ax5) = plt.subplots(1, 5)\n",
    "ax1.imshow(np.transpose(plate),cmap='gray', vmin=0, vmax=np.max(plate))\n",
    "ax2.imshow(np.transpose(O),cmap='gray', vmin=np.min(O), vmax=np.max(O))\n",
    "ax3.imshow(np.transpose(f_original),cmap='gray', vmin=0, vmax=np.max(f_original))\n",
    "ax4.imshow(np.transpose(f_tikhonov),cmap='gray', vmin=0, vmax=np.max(f_tikhonov))\n",
    "ax5.imshow(np.transpose(f_domaintransform),cmap='gray', vmin=0, vmax=np.max(f_domaintransform))"
   ]
  }
 ],
 "metadata": {
  "kernelspec": {
   "display_name": "Python 3 (ipykernel)",
   "language": "python",
   "name": "python3"
  },
  "language_info": {
   "codemirror_mode": {
    "name": "ipython",
    "version": 3
   },
   "file_extension": ".py",
   "mimetype": "text/x-python",
   "name": "python",
   "nbconvert_exporter": "python",
   "pygments_lexer": "ipython3",
   "version": "3.12.1"
  }
 },
 "nbformat": 4,
 "nbformat_minor": 5
}
