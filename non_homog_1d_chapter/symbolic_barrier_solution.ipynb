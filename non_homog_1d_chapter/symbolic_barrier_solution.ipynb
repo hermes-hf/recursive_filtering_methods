{
 "cells": [
  {
   "cell_type": "code",
   "execution_count": 459,
   "id": "1869798a-ae43-43bf-b682-83eed4003593",
   "metadata": {},
   "outputs": [],
   "source": [
    "import sympy as sp\n",
    "import numpy as np\n",
    "from IPython.display import display, Math, Latex\n",
    "import codecs"
   ]
  },
  {
   "cell_type": "markdown",
   "id": "f55c3554-0ff6-4720-bda7-5d367335bc4b",
   "metadata": {},
   "source": [
    "# Introduction"
   ]
  },
  {
   "cell_type": "markdown",
   "id": "6aa2660c-8063-4826-8142-5585a39bb5db",
   "metadata": {},
   "source": [
    "In this notebook a step-by-step symbolic solution to obtain the kernel $K(x|u)$ for the problem\n",
    "\n",
    "$f(x)(1+W(x) + W(x+1)) - W(x)f(x-1) - W(x+1)f(x+1) = g(x)$\n",
    "\n",
    "when  the weights are given by a barrier at $x= 0$ with \n",
    "\n",
    "$W(x) = \\left\\{\\begin{matrix}\n",
    "\\lambda\\,, & x\\neq 0\\\\\n",
    "\\mu, & x=0\\\\\n",
    "\\end{matrix}\\right.$\n",
    "\n",
    "We first show the general form of the solution, which is extremely extense, and then we show how it can be greatly simplified in the case \n",
    "\n",
    "$\\lambda=2\\,, \\quad \\mu = 2 \\, w_0$\n",
    "\n",
    "The kernel is shown to be $K(x|u) = a(x)a(u)e^{-|t(x)-t(u)|}$, where $t(x)$ is given implicitly by $\\Delta t(x) = t(x)-t(x-1)$. We compute explicit solutions for $a(x)$ and $\\Delta t(x)$.\n",
    "\n",
    "$ $\n",
    "t.$"
   ]
  },
  {
   "cell_type": "markdown",
   "id": "d90cb28b-f193-4e2f-b00a-94763f911063",
   "metadata": {},
   "source": [
    "# General solution for the Barrier at $x_0 = 0$"
   ]
  },
  {
   "cell_type": "markdown",
   "id": "afb73028-6dd3-4183-bf10-50c56de74851",
   "metadata": {},
   "source": [
    "We begin by defining the weight function W(x)"
   ]
  },
  {
   "cell_type": "code",
   "execution_count": 462,
   "id": "8da710b0-1526-4040-b21f-dfcc6a387e6c",
   "metadata": {
    "scrolled": true
   },
   "outputs": [
    {
     "data": {
      "text/latex": [
       "$W(x) = $ $\\begin{cases} λ & \\text{for}\\: x \\leq -1 \\\\μ & \\text{for}\\: x < 1 \\\\λ & \\text{otherwise} \\end{cases}$"
      ],
      "text/plain": [
       "<IPython.core.display.Latex object>"
      ]
     },
     "metadata": {},
     "output_type": "display_data"
    }
   ],
   "source": [
    "x= sp.symbols('x')\n",
    "w0= sp.symbols('w0')\n",
    "λ= sp.symbols('λ')\n",
    "n = sp.symbols('n')\n",
    "μ = sp.symbols('μ')\n",
    "\n",
    "W = sp.Piecewise(\n",
    "    (λ, x <= -1),\n",
    "    (μ, (x>-1)&(x<1)),\n",
    "    (λ, x >= 1),\n",
    ")\n",
    "\n",
    "display(Latex(r\"$W(x) = $ \" + sp.latex(W, mode='inline')))"
   ]
  },
  {
   "cell_type": "markdown",
   "id": "8da03001-9c25-452c-9cfb-7784e62485b1",
   "metadata": {},
   "source": [
    "# Explicit barrier domain transform by symbolic computing"
   ]
  },
  {
   "cell_type": "markdown",
   "id": "aa552930-b886-413c-b361-f121137c0e09",
   "metadata": {},
   "source": [
    "The $γ(λ)$ is the default value for the $B(x)$ coefficients in homogeneous regions, computed by continued fractions\n",
    "\n",
    "$B(x) = 1 + W(x) + W(x+1)  - W(x+1)^2/B(x+1)$\n",
    "\n",
    "$B(x) = 1 + λ + λ  - λ^2/B(x+1)$\n",
    "\n",
    "$B(x) = 1 + 2λ - \\frac{λ^2}{ 1 + 2λ - \\frac{λ^2}{ 1 + 2λ \\ldots}} = γ(λ)$"
   ]
  },
  {
   "cell_type": "markdown",
   "id": "a080f291-391e-4ec7-8a0c-901ee33597f8",
   "metadata": {},
   "source": [
    "# Computing B"
   ]
  },
  {
   "cell_type": "markdown",
   "id": "00072dbe-aa86-4738-81ed-3651ad96d7f9",
   "metadata": {},
   "source": [
    "If, however, $B(x)$ is not $\\textbf{all}$ equal to $\\gamma(\\lambda)$, then we can still compute $B(x-k)$ for arbitrary choice of $k$ using matrix multiplication. The idea is as follows:\n",
    "\n",
    "Suppose $B(x) = \\frac{p}{q}$ for some fraction $p/q$, and that the weights are all homogeneous for $x$ in $x+1$ to $-\\infty$.\n",
    "\n",
    "$B(x-1) = 1 + 2\\lambda - \\frac{\\lambda^2}{\\frac{p}{q}}$\n",
    "\n",
    "is simplified to\n",
    "\n",
    "$B(x-1) = \\frac{νp- λ^2q}{p}$, which means each step $x \\mapsto x-1$ is written in matrix form as \n",
    "\n",
    "$      \\begin{bmatrix}\n",
    "\\nu  & -\\lambda^2\\\\ \n",
    "1 & 0\n",
    "\\end{bmatrix}\n",
    "\\begin{bmatrix}\n",
    "p\\\\ \n",
    "r\n",
    "\\end{bmatrix} \\mapsto \\begin{bmatrix}\n",
    "\\nu p - \\lambda^2 r\\\\ \n",
    "p\n",
    "\\end{bmatrix}\\,,$\n",
    "\n",
    "Therefore $B(x-k)$ for $k>=0$ can be written in terms of $B(x) = \\frac{p}{q}$ with\n",
    "\n",
    "$  \\frac{\\text{numerator}(B(x-k))}{\\text{denominator}(B(x-k))}  =   \\begin{bmatrix}\n",
    "\\nu  & -\\lambda^2\\\\ \n",
    "1 & 0\n",
    "\\end{bmatrix}^k\n",
    "\\begin{bmatrix}\n",
    "p\\\\ \n",
    "r\n",
    "\\end{bmatrix} $\n"
   ]
  },
  {
   "cell_type": "markdown",
   "id": "24f4561d-de27-4f2d-88bc-02b1e3b69142",
   "metadata": {},
   "source": [
    "We begin my writing down the variables"
   ]
  },
  {
   "cell_type": "code",
   "execution_count": 397,
   "id": "9b4bb6a0-01fd-4572-a87c-3bbdc622b622",
   "metadata": {},
   "outputs": [
    {
     "data": {
      "text/latex": [
       "$γ = $ $λ + \\sqrt{4 λ + 1} / 2 + 1 / 2$"
      ],
      "text/plain": [
       "<IPython.core.display.Latex object>"
      ]
     },
     "metadata": {},
     "output_type": "display_data"
    },
    {
     "data": {
      "text/latex": [
       "$ν = $ $2 λ + 1$"
      ],
      "text/plain": [
       "<IPython.core.display.Latex object>"
      ]
     },
     "metadata": {},
     "output_type": "display_data"
    },
    {
     "data": {
      "text/latex": [
       "$\\displaystyle \\left[\\begin{matrix}2 λ + 1 & - λ^{2}\\\\1 & 0\\end{matrix}\\right]$"
      ],
      "text/plain": [
       "Matrix([\n",
       "[2*λ + 1, -λ**2],\n",
       "[      1,     0]])"
      ]
     },
     "metadata": {},
     "output_type": "display_data"
    }
   ],
   "source": [
    "γ =  (2 * λ + sp.sqrt(4 * λ + 1) + 1)/2\n",
    "ν = 1 + 2*λ\n",
    "Bstep_mat = sp.Matrix([[ν, -λ*λ], [1, 0]])\n",
    "\n",
    "display(Latex(r\"$γ = $ \" + sp.latex(γ, mode='inline')))\n",
    "display(Latex(r\"$ν = $ \" + sp.latex(ν, mode='inline')))\n",
    "display(Bstep_mat)"
   ]
  },
  {
   "cell_type": "markdown",
   "id": "4c527758-8598-4a7a-843f-ac225b732a71",
   "metadata": {},
   "source": [
    "## Diagonalizing B(x-k)"
   ]
  },
  {
   "cell_type": "code",
   "execution_count": 407,
   "id": "fb644cd5-39ce-49db-a28d-5bc8e96aad00",
   "metadata": {
    "scrolled": true
   },
   "outputs": [
    {
     "data": {
      "text/latex": [
       "We then have the expression, starting from $B(-1)$ for decreasing indices"
      ],
      "text/plain": [
       "<IPython.core.display.Latex object>"
      ]
     },
     "metadata": {},
     "output_type": "display_data"
    },
    {
     "data": {
      "text/latex": [
       " $B(-k) =$ $\\frac{B(-1) \\left(- \\frac{\\left(λ - \\sqrt{4 λ + 1} / 2 + 1 / 2\\right) \\left(λ - \\sqrt{4 λ + 1} / 2 + 1 / 2\\right)^{k}}{\\sqrt{4 λ + 1}} + \\frac{\\left(λ + \\sqrt{4 λ + 1} / 2 + 1 / 2\\right) \\left(λ + \\sqrt{4 λ + 1} / 2 + 1 / 2\\right)^{k}}{\\sqrt{4 λ + 1}}\\right) + \\frac{\\left(- 2 λ + \\sqrt{4 λ + 1} - 1\\right) \\left(λ + \\sqrt{4 λ + 1} / 2 + 1 / 2\\right) \\left(λ + \\sqrt{4 λ + 1} / 2 + 1 / 2\\right)^{k}}{2 \\sqrt{4 λ + 1}} + \\frac{\\left(λ - \\sqrt{4 λ + 1} / 2 + 1 / 2\\right) \\left(λ - \\sqrt{4 λ + 1} / 2 + 1 / 2\\right)^{k} \\left(2 λ + \\sqrt{4 λ + 1} + 1\\right)}{2 \\sqrt{4 λ + 1}}}{B(-1) \\left(- \\frac{\\left(λ - \\sqrt{4 λ + 1} / 2 + 1 / 2\\right)^{k}}{\\sqrt{4 λ + 1}} + \\frac{\\left(λ + \\sqrt{4 λ + 1} / 2 + 1 / 2\\right)^{k}}{\\sqrt{4 λ + 1}}\\right) + \\frac{\\left(- 2 λ + \\sqrt{4 λ + 1} - 1\\right) \\left(λ + \\sqrt{4 λ + 1} / 2 + 1 / 2\\right)^{k}}{2 \\sqrt{4 λ + 1}} + \\frac{\\left(λ - \\sqrt{4 λ + 1} / 2 + 1 / 2\\right)^{k} \\left(2 λ + \\sqrt{4 λ + 1} + 1\\right)}{2 \\sqrt{4 λ + 1}}}$"
      ],
      "text/plain": [
       "<IPython.core.display.Latex object>"
      ]
     },
     "metadata": {},
     "output_type": "display_data"
    }
   ],
   "source": [
    "k = sp.symbols('k')\n",
    "bstart = sp.symbols('bs')\n",
    "P, D = Bstep_mat.diagonalize()\n",
    "Pinv = P.inv()\n",
    "\n",
    "Bsteps_mat = (P * (D**k) * P.inv())*sp.Matrix([[bstart], [1]]) #bstart is the starting value of b(x) to compute b(x-k)\n",
    "\n",
    "Bsteps = Bsteps_mat[0]/Bsteps_mat[1]\n",
    "\n",
    "#the starting fracion can be chosen conveniently, we simply make q=1 to simplify computation\n",
    "display(Latex(r\"We then have the expression, starting from $B(-1)$ for decreasing indices\"))\n",
    "\n",
    "display(Latex(r\" $B(-k) =$ \" + sp.latex(Bsteps.subs(bstart, sp.symbols('B(-1)')), mode='inline')))\n"
   ]
  },
  {
   "cell_type": "markdown",
   "id": "095d7c54-ec2b-4dc8-847b-d13420049cf2",
   "metadata": {},
   "source": [
    "## B as a pure function"
   ]
  },
  {
   "cell_type": "markdown",
   "id": "8f849419-0923-46c1-bf1a-a3df1f4d4da2",
   "metadata": {},
   "source": [
    "We write down the function $B(x)$ as a piecewise function. Notice that it is constant equal to $\\gamma(\\lambda)$ for $x>0$. Then\n",
    "\n",
    "\\begin{matrix}\n",
    "B(1) & =  \\gamma(\\lambda)\\\\ \n",
    "B(0) & =  1 + \\mu + \\lambda - \\frac{\\lambda^2}{B(1)}\\\\\n",
    "B(-1) & = 1 + \\lambda + \\mu - \\mu^2/B(0)\\\\\n",
    "B(-2) & = 1 + 2\\lambda - \\lambda^2/B(0)\n",
    "\\end{matrix}\n",
    "}\n",
    "$"
   ]
  },
  {
   "cell_type": "code",
   "execution_count": 411,
   "id": "087d5dc5-3307-43e0-8881-fa3d057770e5",
   "metadata": {},
   "outputs": [
    {
     "data": {
      "text/latex": [
       "We obtain the large expression"
      ],
      "text/plain": [
       "<IPython.core.display.Latex object>"
      ]
     },
     "metadata": {},
     "output_type": "display_data"
    },
    {
     "data": {
      "text/latex": [
       " $B(x) =$ $\\begin{cases} λ + \\sqrt{4 λ + 1} / 2 + 1 / 2 & \\text{for}\\: x \\geq 1 \\\\- \\frac{λ^{2}}{λ + \\sqrt{4 λ + 1} / 2 + 1 / 2} + λ + μ + 1 & \\text{for}\\: x > -1 \\\\\\frac{\\left(- \\frac{\\left(λ - \\sqrt{4 λ + 1} / 2 + 1 / 2\\right) \\left(λ - \\sqrt{4 λ + 1} / 2 + 1 / 2\\right)^{- x - 1}}{\\sqrt{4 λ + 1}} + \\frac{\\left(λ + \\sqrt{4 λ + 1} / 2 + 1 / 2\\right) \\left(λ + \\sqrt{4 λ + 1} / 2 + 1 / 2\\right)^{- x - 1}}{\\sqrt{4 λ + 1}}\\right) \\left(λ - \\frac{μ^{2}}{- \\frac{λ^{2}}{λ + \\sqrt{4 λ + 1} / 2 + 1 / 2} + λ + μ + 1} + μ + 1\\right) + \\frac{\\left(- 2 λ + \\sqrt{4 λ + 1} - 1\\right) \\left(λ + \\sqrt{4 λ + 1} / 2 + 1 / 2\\right) \\left(λ + \\sqrt{4 λ + 1} / 2 + 1 / 2\\right)^{- x - 1}}{2 \\sqrt{4 λ + 1}} + \\frac{\\left(λ - \\sqrt{4 λ + 1} / 2 + 1 / 2\\right) \\left(λ - \\sqrt{4 λ + 1} / 2 + 1 / 2\\right)^{- x - 1} \\cdot \\left(2 λ + \\sqrt{4 λ + 1} + 1\\right)}{2 \\sqrt{4 λ + 1}}}{\\left(- \\frac{\\left(λ - \\sqrt{4 λ + 1} / 2 + 1 / 2\\right)^{- x - 1}}{\\sqrt{4 λ + 1}} + \\frac{\\left(λ + \\sqrt{4 λ + 1} / 2 + 1 / 2\\right)^{- x - 1}}{\\sqrt{4 λ + 1}}\\right) \\left(λ - \\frac{μ^{2}}{- \\frac{λ^{2}}{λ + \\sqrt{4 λ + 1} / 2 + 1 / 2} + λ + μ + 1} + μ + 1\\right) + \\frac{\\left(- 2 λ + \\sqrt{4 λ + 1} - 1\\right) \\left(λ + \\sqrt{4 λ + 1} / 2 + 1 / 2\\right)^{- x - 1}}{2 \\sqrt{4 λ + 1}} + \\frac{\\left(λ - \\sqrt{4 λ + 1} / 2 + 1 / 2\\right)^{- x - 1} \\cdot \\left(2 λ + \\sqrt{4 λ + 1} + 1\\right)}{2 \\sqrt{4 λ + 1}}} & \\text{otherwise} \\end{cases}$"
      ],
      "text/plain": [
       "<IPython.core.display.Latex object>"
      ]
     },
     "metadata": {},
     "output_type": "display_data"
    }
   ],
   "source": [
    "Bx1 = γ\n",
    "Bx0 = 1 + W.subs(x,0)+ W.subs(x,1) - W.subs(x,1)**2/Bx1\n",
    "Bxm1 =  1 + W.subs(x,-1)+ W.subs(x,0) - W.subs(x,0)**2/Bx0\n",
    "\n",
    "\n",
    "B = sp.Piecewise(\n",
    "    (Bx1, x >= 1),\n",
    "    (Bx0 , (x < 1)&(x>-1)), #at x==0\n",
    "    (Bsteps.replace(k,-x-1).replace(bstart, Bxm1), x<=-1)\n",
    ")\n",
    "\n",
    "display(Latex(r\"We obtain the large expression\"))\n",
    "\n",
    "display(Latex(r\" $B(x) =$ \" + sp.latex(B, mode='inline')))"
   ]
  },
  {
   "cell_type": "markdown",
   "id": "9ba11a47-e890-4375-a3d7-0c021efa6dc8",
   "metadata": {},
   "source": [
    "# Diagonalizing B2"
   ]
  },
  {
   "cell_type": "markdown",
   "id": "72435ed0-d4df-4b27-8790-a9d5e1f09e83",
   "metadata": {},
   "source": [
    "Similarly we can solve for $B_2(x) = 1 + W(x) + W(x+1) - W(x)^2/B_2(x-1)$. The key difference is that we are computing a forward step $B_2(x+k)$ as a function of $B(x)$. The steps are taken at the right side of the barrier. Since the weights are all $\\lambda$ except at $x_0=0$, then the steps are computed with the same matrix used to compute $B$."
   ]
  },
  {
   "cell_type": "code",
   "execution_count": 420,
   "id": "fe56bbd1-3cee-4672-81a4-7aa13170921a",
   "metadata": {
    "scrolled": true
   },
   "outputs": [
    {
     "data": {
      "text/latex": [
       "We then have the expression, starting from $B_2(1)$ for increasing indices"
      ],
      "text/plain": [
       "<IPython.core.display.Latex object>"
      ]
     },
     "metadata": {},
     "output_type": "display_data"
    },
    {
     "data": {
      "text/latex": [
       " $B_2(k) =$ $\\frac{B_{2}(1) \\left(- \\frac{\\left(λ - \\sqrt{4 λ + 1} / 2 + 1 / 2\\right) \\left(λ - \\sqrt{4 λ + 1} / 2 + 1 / 2\\right)^{k}}{\\sqrt{4 λ + 1}} + \\frac{\\left(λ + \\sqrt{4 λ + 1} / 2 + 1 / 2\\right) \\left(λ + \\sqrt{4 λ + 1} / 2 + 1 / 2\\right)^{k}}{\\sqrt{4 λ + 1}}\\right) + \\frac{\\left(- 2 λ + \\sqrt{4 λ + 1} - 1\\right) \\left(λ + \\sqrt{4 λ + 1} / 2 + 1 / 2\\right) \\left(λ + \\sqrt{4 λ + 1} / 2 + 1 / 2\\right)^{k}}{2 \\sqrt{4 λ + 1}} + \\frac{\\left(λ - \\sqrt{4 λ + 1} / 2 + 1 / 2\\right) \\left(λ - \\sqrt{4 λ + 1} / 2 + 1 / 2\\right)^{k} \\left(2 λ + \\sqrt{4 λ + 1} + 1\\right)}{2 \\sqrt{4 λ + 1}}}{B_{2}(1) \\left(- \\frac{\\left(λ - \\sqrt{4 λ + 1} / 2 + 1 / 2\\right)^{k}}{\\sqrt{4 λ + 1}} + \\frac{\\left(λ + \\sqrt{4 λ + 1} / 2 + 1 / 2\\right)^{k}}{\\sqrt{4 λ + 1}}\\right) + \\frac{\\left(- 2 λ + \\sqrt{4 λ + 1} - 1\\right) \\left(λ + \\sqrt{4 λ + 1} / 2 + 1 / 2\\right)^{k}}{2 \\sqrt{4 λ + 1}} + \\frac{\\left(λ - \\sqrt{4 λ + 1} / 2 + 1 / 2\\right)^{k} \\left(2 λ + \\sqrt{4 λ + 1} + 1\\right)}{2 \\sqrt{4 λ + 1}}}$"
      ],
      "text/plain": [
       "<IPython.core.display.Latex object>"
      ]
     },
     "metadata": {},
     "output_type": "display_data"
    }
   ],
   "source": [
    "bstart2 = sp.symbols('bs2')\n",
    "B2steps = Bsteps.replace(bstart,bstart2)\n",
    "\n",
    "display(Latex(r\"We then have the expression, starting from $B_2(1)$ for increasing indices\"))\n",
    "display(Latex(r\" $B_2(k) =$ \" + sp.latex(B2steps.subs(bstart2,sp.symbols(r'B_{2}(1)')), mode='inline')))"
   ]
  },
  {
   "cell_type": "markdown",
   "id": "3176a516-7585-4774-8c13-c1d9183db21f",
   "metadata": {},
   "source": [
    "## B2 as a pure function"
   ]
  },
  {
   "cell_type": "markdown",
   "id": "473467fd-c6ca-413c-a955-448b414640e9",
   "metadata": {},
   "source": [
    "We write down the function $B_2(x)$ as a piecewise function. Notice that it is constant equal to $\\gamma(\\lambda)$ for $x<=2$. Then\n",
    "\n",
    "\\begin{matrix}\n",
    "B_2(-2) & =  \\gamma(\\lambda)\\\\ \n",
    "B_2(-1) & =  1 + \\lambda + \\mu - \\frac{\\lambda^2}{B_2(-2)}\\\\\n",
    "B_2(0) & = 1 + \\mu + \\lambda - \\frac{\\mu^2}{B_2(-1)}\n",
    "\\\\\n",
    "B_2(1) & = 1 + 2\\lambda - \\frac{\\lambda^2}{B_2(0)}\n",
    "\\end{matrix}\n"
   ]
  },
  {
   "cell_type": "code",
   "execution_count": 421,
   "id": "f1e88d1f-8360-453c-949d-4ff1188da16a",
   "metadata": {},
   "outputs": [
    {
     "data": {
      "text/latex": [
       "So"
      ],
      "text/plain": [
       "<IPython.core.display.Latex object>"
      ]
     },
     "metadata": {},
     "output_type": "display_data"
    },
    {
     "data": {
      "text/latex": [
       " $B_2(x) =$ $\\begin{cases} λ + \\sqrt{4 λ + 1} / 2 + 1 / 2 & \\text{for}\\: x \\leq -2 \\\\- \\frac{λ^{2}}{λ + \\sqrt{4 λ + 1} / 2 + 1 / 2} + λ + μ + 1 & \\text{for}\\: x < 0 \\\\\\frac{\\left(- \\frac{\\left(λ - \\sqrt{4 λ + 1} / 2 + 1 / 2\\right) \\left(λ - \\sqrt{4 λ + 1} / 2 + 1 / 2\\right)^{x}}{\\sqrt{4 λ + 1}} + \\frac{\\left(λ + \\sqrt{4 λ + 1} / 2 + 1 / 2\\right) \\left(λ + \\sqrt{4 λ + 1} / 2 + 1 / 2\\right)^{x}}{\\sqrt{4 λ + 1}}\\right) \\left(λ - \\frac{μ^{2}}{- \\frac{λ^{2}}{λ + \\sqrt{4 λ + 1} / 2 + 1 / 2} + λ + μ + 1} + μ + 1\\right) + \\frac{\\left(- 2 λ + \\sqrt{4 λ + 1} - 1\\right) \\left(λ + \\sqrt{4 λ + 1} / 2 + 1 / 2\\right) \\left(λ + \\sqrt{4 λ + 1} / 2 + 1 / 2\\right)^{x}}{2 \\sqrt{4 λ + 1}} + \\frac{\\left(λ - \\sqrt{4 λ + 1} / 2 + 1 / 2\\right) \\left(λ - \\sqrt{4 λ + 1} / 2 + 1 / 2\\right)^{x} \\left(2 λ + \\sqrt{4 λ + 1} + 1\\right)}{2 \\sqrt{4 λ + 1}}}{\\left(- \\frac{\\left(λ - \\sqrt{4 λ + 1} / 2 + 1 / 2\\right)^{x}}{\\sqrt{4 λ + 1}} + \\frac{\\left(λ + \\sqrt{4 λ + 1} / 2 + 1 / 2\\right)^{x}}{\\sqrt{4 λ + 1}}\\right) \\left(λ - \\frac{μ^{2}}{- \\frac{λ^{2}}{λ + \\sqrt{4 λ + 1} / 2 + 1 / 2} + λ + μ + 1} + μ + 1\\right) + \\frac{\\left(- 2 λ + \\sqrt{4 λ + 1} - 1\\right) \\left(λ + \\sqrt{4 λ + 1} / 2 + 1 / 2\\right)^{x}}{2 \\sqrt{4 λ + 1}} + \\frac{\\left(λ - \\sqrt{4 λ + 1} / 2 + 1 / 2\\right)^{x} \\left(2 λ + \\sqrt{4 λ + 1} + 1\\right)}{2 \\sqrt{4 λ + 1}}} & \\text{otherwise} \\end{cases}$"
      ],
      "text/plain": [
       "<IPython.core.display.Latex object>"
      ]
     },
     "metadata": {},
     "output_type": "display_data"
    }
   ],
   "source": [
    "B2xm2 = γ\n",
    "B2xm1 = 1 + W.subs(x,-1)+ W.subs(x,0) - W.subs(x,-1)**2/B2xm2\n",
    "B2x0 =  1 + W.subs(x,0)+ W.subs(x,1) - W.subs(x,0)**2/B2xm1\n",
    "\n",
    "\n",
    "B2 = sp.Piecewise(\n",
    "    (B2xm2, x <= -2),\n",
    "    (B2xm1, (x < 0)&(x>-2)), #at x==-1\n",
    "    (B2steps.replace(k,x).replace(bstart2, B2x0), x>=0)\n",
    ")\n",
    "\n",
    "display(Latex(r\"So\"))\n",
    "\n",
    "display(Latex(r\" $B_2(x) =$ \" + sp.latex(B2, mode='inline')))"
   ]
  },
  {
   "cell_type": "markdown",
   "id": "3f9f3ed9-d300-4ae9-bda1-0a19302558d4",
   "metadata": {},
   "source": [
    "$B_2$ and $B$ satisfy the symmetry\n",
    "\n",
    "$B_2(-1+j) = B(-j)$\n",
    "\n",
    "This can be seen at numerically"
   ]
  },
  {
   "cell_type": "code",
   "execution_count": 424,
   "id": "cef33c68-d96f-41dc-98e0-7c58d761b128",
   "metadata": {},
   "outputs": [
    {
     "name": "stdout",
     "output_type": "stream",
     "text": [
      "0\n",
      "0\n",
      "0\n",
      "0\n",
      "0\n",
      "0\n",
      "0\n",
      "0\n",
      "0\n",
      "0\n"
     ]
    }
   ],
   "source": [
    "for j in range(-5,5):\n",
    "    print((B2.subs(x, -1+j) - B.subs(x, -j)).subs({\n",
    "            λ : 10,\n",
    "            μ : 3,\n",
    "        }\n",
    "    ).evalf())"
   ]
  },
  {
   "cell_type": "markdown",
   "id": "8863ae9a-2a11-46cd-82f6-c9e999a2efc7",
   "metadata": {},
   "source": [
    "# Squared normalization coefficients $a^2$ and Domain transform dt"
   ]
  },
  {
   "cell_type": "markdown",
   "id": "e5fa8869-af5d-4eef-a6b1-9e7af7fb41b0",
   "metadata": {},
   "source": [
    "We use that \n",
    "\n",
    "$ a(x)^2 = \\frac{1}{B(x) - \\frac{W(x)^2}{B_2(x-1)}}\\,.$\n",
    "\n",
    "and\n",
    "\n",
    "$ (t(x)-t(x-1)) = -\\log \\left( \\frac{-1 + \\sqrt{4 a(x-1)^2 a(x)^2W(x)^2+1}}{2 a(x-1)a(x)W(x)}\\right)$"
   ]
  },
  {
   "cell_type": "code",
   "execution_count": 425,
   "id": "3d784ab7-eafa-4fd8-8e50-9ce0703d6f4d",
   "metadata": {},
   "outputs": [],
   "source": [
    "asqr = 1/(B- W*W/(B2.replace(x,x-1)))"
   ]
  },
  {
   "cell_type": "markdown",
   "id": "8f8f419e-39e9-4750-86a6-3d9c0ac591eb",
   "metadata": {},
   "source": [
    "# Domain transform"
   ]
  },
  {
   "cell_type": "markdown",
   "id": "ae7ccad9-d9ba-4be6-8059-d410968b1bec",
   "metadata": {},
   "source": [
    "The domain transform is then given by"
   ]
  },
  {
   "cell_type": "code",
   "execution_count": 426,
   "id": "7e2efe4e-a638-4ac3-889f-1648487871f2",
   "metadata": {},
   "outputs": [
    {
     "data": {
      "text/latex": [
       "$\\displaystyle \\log{\\left(\\frac{2 \\sqrt{\\frac{1}{\\left(- \\left(\\begin{cases} λ^{2} & \\text{for}\\: x \\leq -1 \\\\μ^{2} & \\text{for}\\: x < 1 \\\\λ^{2} & \\text{otherwise} \\end{cases}\\right) \\left(\\begin{cases} \\frac{1}{λ + \\frac{\\sqrt{4 λ + 1}}{2} + \\frac{1}{2}} & \\text{for}\\: x \\leq -1 \\\\\\frac{1}{- \\frac{λ^{2}}{λ + \\frac{\\sqrt{4 λ + 1}}{2} + \\frac{1}{2}} + λ + μ + 1} & \\text{for}\\: x < 1 \\\\\\frac{\\left(- \\frac{\\left(λ - \\frac{\\sqrt{4 λ + 1}}{2} + \\frac{1}{2}\\right)^{x - 1}}{\\sqrt{4 λ + 1}} + \\frac{\\left(λ + \\frac{\\sqrt{4 λ + 1}}{2} + \\frac{1}{2}\\right)^{x - 1}}{\\sqrt{4 λ + 1}}\\right) \\left(λ - \\frac{μ^{2}}{- \\frac{λ^{2}}{λ + \\frac{\\sqrt{4 λ + 1}}{2} + \\frac{1}{2}} + λ + μ + 1} + μ + 1\\right) + \\frac{\\left(- 2 λ + \\sqrt{4 λ + 1} - 1\\right) \\left(λ + \\frac{\\sqrt{4 λ + 1}}{2} + \\frac{1}{2}\\right)^{x - 1}}{2 \\sqrt{4 λ + 1}} + \\frac{\\left(λ - \\frac{\\sqrt{4 λ + 1}}{2} + \\frac{1}{2}\\right)^{x - 1} \\cdot \\left(2 λ + \\sqrt{4 λ + 1} + 1\\right)}{2 \\sqrt{4 λ + 1}}}{\\left(- \\frac{\\left(λ - \\frac{\\sqrt{4 λ + 1}}{2} + \\frac{1}{2}\\right) \\left(λ - \\frac{\\sqrt{4 λ + 1}}{2} + \\frac{1}{2}\\right)^{x - 1}}{\\sqrt{4 λ + 1}} + \\frac{\\left(λ + \\frac{\\sqrt{4 λ + 1}}{2} + \\frac{1}{2}\\right) \\left(λ + \\frac{\\sqrt{4 λ + 1}}{2} + \\frac{1}{2}\\right)^{x - 1}}{\\sqrt{4 λ + 1}}\\right) \\left(λ - \\frac{μ^{2}}{- \\frac{λ^{2}}{λ + \\frac{\\sqrt{4 λ + 1}}{2} + \\frac{1}{2}} + λ + μ + 1} + μ + 1\\right) + \\frac{\\left(- 2 λ + \\sqrt{4 λ + 1} - 1\\right) \\left(λ + \\frac{\\sqrt{4 λ + 1}}{2} + \\frac{1}{2}\\right) \\left(λ + \\frac{\\sqrt{4 λ + 1}}{2} + \\frac{1}{2}\\right)^{x - 1}}{2 \\sqrt{4 λ + 1}} + \\frac{\\left(λ - \\frac{\\sqrt{4 λ + 1}}{2} + \\frac{1}{2}\\right) \\left(λ - \\frac{\\sqrt{4 λ + 1}}{2} + \\frac{1}{2}\\right)^{x - 1} \\cdot \\left(2 λ + \\sqrt{4 λ + 1} + 1\\right)}{2 \\sqrt{4 λ + 1}}} & \\text{otherwise} \\end{cases}\\right) + \\begin{cases} λ + \\frac{\\sqrt{4 λ + 1}}{2} + \\frac{1}{2} & \\text{for}\\: x \\geq 1 \\\\- \\frac{λ^{2}}{λ + \\frac{\\sqrt{4 λ + 1}}{2} + \\frac{1}{2}} + λ + μ + 1 & \\text{for}\\: x > -1 \\\\\\frac{\\left(- \\frac{\\left(λ - \\frac{\\sqrt{4 λ + 1}}{2} + \\frac{1}{2}\\right) \\left(λ - \\frac{\\sqrt{4 λ + 1}}{2} + \\frac{1}{2}\\right)^{- x - 1}}{\\sqrt{4 λ + 1}} + \\frac{\\left(λ + \\frac{\\sqrt{4 λ + 1}}{2} + \\frac{1}{2}\\right) \\left(λ + \\frac{\\sqrt{4 λ + 1}}{2} + \\frac{1}{2}\\right)^{- x - 1}}{\\sqrt{4 λ + 1}}\\right) \\left(λ - \\frac{μ^{2}}{- \\frac{λ^{2}}{λ + \\frac{\\sqrt{4 λ + 1}}{2} + \\frac{1}{2}} + λ + μ + 1} + μ + 1\\right) + \\frac{\\left(- 2 λ + \\sqrt{4 λ + 1} - 1\\right) \\left(λ + \\frac{\\sqrt{4 λ + 1}}{2} + \\frac{1}{2}\\right) \\left(λ + \\frac{\\sqrt{4 λ + 1}}{2} + \\frac{1}{2}\\right)^{- x - 1}}{2 \\sqrt{4 λ + 1}} + \\frac{\\left(λ - \\frac{\\sqrt{4 λ + 1}}{2} + \\frac{1}{2}\\right) \\left(λ - \\frac{\\sqrt{4 λ + 1}}{2} + \\frac{1}{2}\\right)^{- x - 1} \\cdot \\left(2 λ + \\sqrt{4 λ + 1} + 1\\right)}{2 \\sqrt{4 λ + 1}}}{\\left(- \\frac{\\left(λ - \\frac{\\sqrt{4 λ + 1}}{2} + \\frac{1}{2}\\right)^{- x - 1}}{\\sqrt{4 λ + 1}} + \\frac{\\left(λ + \\frac{\\sqrt{4 λ + 1}}{2} + \\frac{1}{2}\\right)^{- x - 1}}{\\sqrt{4 λ + 1}}\\right) \\left(λ - \\frac{μ^{2}}{- \\frac{λ^{2}}{λ + \\frac{\\sqrt{4 λ + 1}}{2} + \\frac{1}{2}} + λ + μ + 1} + μ + 1\\right) + \\frac{\\left(- 2 λ + \\sqrt{4 λ + 1} - 1\\right) \\left(λ + \\frac{\\sqrt{4 λ + 1}}{2} + \\frac{1}{2}\\right)^{- x - 1}}{2 \\sqrt{4 λ + 1}} + \\frac{\\left(λ - \\frac{\\sqrt{4 λ + 1}}{2} + \\frac{1}{2}\\right)^{- x - 1} \\cdot \\left(2 λ + \\sqrt{4 λ + 1} + 1\\right)}{2 \\sqrt{4 λ + 1}}} & \\text{otherwise} \\end{cases}\\right) \\left(- \\left(\\begin{cases} λ^{2} & \\text{for}\\: x \\leq 0 \\\\μ^{2} & \\text{for}\\: x < 2 \\\\λ^{2} & \\text{otherwise} \\end{cases}\\right) \\left(\\begin{cases} \\frac{1}{λ + \\frac{\\sqrt{4 λ + 1}}{2} + \\frac{1}{2}} & \\text{for}\\: x \\leq 0 \\\\\\frac{1}{- \\frac{λ^{2}}{λ + \\frac{\\sqrt{4 λ + 1}}{2} + \\frac{1}{2}} + λ + μ + 1} & \\text{for}\\: x < 2 \\\\\\frac{\\left(- \\frac{\\left(λ - \\frac{\\sqrt{4 λ + 1}}{2} + \\frac{1}{2}\\right)^{x - 2}}{\\sqrt{4 λ + 1}} + \\frac{\\left(λ + \\frac{\\sqrt{4 λ + 1}}{2} + \\frac{1}{2}\\right)^{x - 2}}{\\sqrt{4 λ + 1}}\\right) \\left(λ - \\frac{μ^{2}}{- \\frac{λ^{2}}{λ + \\frac{\\sqrt{4 λ + 1}}{2} + \\frac{1}{2}} + λ + μ + 1} + μ + 1\\right) + \\frac{\\left(- 2 λ + \\sqrt{4 λ + 1} - 1\\right) \\left(λ + \\frac{\\sqrt{4 λ + 1}}{2} + \\frac{1}{2}\\right)^{x - 2}}{2 \\sqrt{4 λ + 1}} + \\frac{\\left(λ - \\frac{\\sqrt{4 λ + 1}}{2} + \\frac{1}{2}\\right)^{x - 2} \\cdot \\left(2 λ + \\sqrt{4 λ + 1} + 1\\right)}{2 \\sqrt{4 λ + 1}}}{\\left(- \\frac{\\left(λ - \\frac{\\sqrt{4 λ + 1}}{2} + \\frac{1}{2}\\right) \\left(λ - \\frac{\\sqrt{4 λ + 1}}{2} + \\frac{1}{2}\\right)^{x - 2}}{\\sqrt{4 λ + 1}} + \\frac{\\left(λ + \\frac{\\sqrt{4 λ + 1}}{2} + \\frac{1}{2}\\right) \\left(λ + \\frac{\\sqrt{4 λ + 1}}{2} + \\frac{1}{2}\\right)^{x - 2}}{\\sqrt{4 λ + 1}}\\right) \\left(λ - \\frac{μ^{2}}{- \\frac{λ^{2}}{λ + \\frac{\\sqrt{4 λ + 1}}{2} + \\frac{1}{2}} + λ + μ + 1} + μ + 1\\right) + \\frac{\\left(- 2 λ + \\sqrt{4 λ + 1} - 1\\right) \\left(λ + \\frac{\\sqrt{4 λ + 1}}{2} + \\frac{1}{2}\\right) \\left(λ + \\frac{\\sqrt{4 λ + 1}}{2} + \\frac{1}{2}\\right)^{x - 2}}{2 \\sqrt{4 λ + 1}} + \\frac{\\left(λ - \\frac{\\sqrt{4 λ + 1}}{2} + \\frac{1}{2}\\right) \\left(λ - \\frac{\\sqrt{4 λ + 1}}{2} + \\frac{1}{2}\\right)^{x - 2} \\cdot \\left(2 λ + \\sqrt{4 λ + 1} + 1\\right)}{2 \\sqrt{4 λ + 1}}} & \\text{otherwise} \\end{cases}\\right) + \\begin{cases} λ + \\frac{\\sqrt{4 λ + 1}}{2} + \\frac{1}{2} & \\text{for}\\: x \\geq 2 \\\\- \\frac{λ^{2}}{λ + \\frac{\\sqrt{4 λ + 1}}{2} + \\frac{1}{2}} + λ + μ + 1 & \\text{for}\\: x > 0 \\\\\\frac{\\left(- \\frac{\\left(λ - \\frac{\\sqrt{4 λ + 1}}{2} + \\frac{1}{2}\\right) \\left(λ - \\frac{\\sqrt{4 λ + 1}}{2} + \\frac{1}{2}\\right)^{- x}}{\\sqrt{4 λ + 1}} + \\frac{\\left(λ + \\frac{\\sqrt{4 λ + 1}}{2} + \\frac{1}{2}\\right) \\left(λ + \\frac{\\sqrt{4 λ + 1}}{2} + \\frac{1}{2}\\right)^{- x}}{\\sqrt{4 λ + 1}}\\right) \\left(λ - \\frac{μ^{2}}{- \\frac{λ^{2}}{λ + \\frac{\\sqrt{4 λ + 1}}{2} + \\frac{1}{2}} + λ + μ + 1} + μ + 1\\right) + \\frac{\\left(- 2 λ + \\sqrt{4 λ + 1} - 1\\right) \\left(λ + \\frac{\\sqrt{4 λ + 1}}{2} + \\frac{1}{2}\\right) \\left(λ + \\frac{\\sqrt{4 λ + 1}}{2} + \\frac{1}{2}\\right)^{- x}}{2 \\sqrt{4 λ + 1}} + \\frac{\\left(λ - \\frac{\\sqrt{4 λ + 1}}{2} + \\frac{1}{2}\\right) \\left(λ - \\frac{\\sqrt{4 λ + 1}}{2} + \\frac{1}{2}\\right)^{- x} \\left(2 λ + \\sqrt{4 λ + 1} + 1\\right)}{2 \\sqrt{4 λ + 1}}}{\\left(\\frac{\\left(λ + \\frac{\\sqrt{4 λ + 1}}{2} + \\frac{1}{2}\\right)^{- x}}{\\sqrt{4 λ + 1}} - \\frac{\\left(λ - \\frac{\\sqrt{4 λ + 1}}{2} + \\frac{1}{2}\\right)^{- x}}{\\sqrt{4 λ + 1}}\\right) \\left(λ - \\frac{μ^{2}}{- \\frac{λ^{2}}{λ + \\frac{\\sqrt{4 λ + 1}}{2} + \\frac{1}{2}} + λ + μ + 1} + μ + 1\\right) + \\frac{\\left(- 2 λ + \\sqrt{4 λ + 1} - 1\\right) \\left(λ + \\frac{\\sqrt{4 λ + 1}}{2} + \\frac{1}{2}\\right)^{- x}}{2 \\sqrt{4 λ + 1}} + \\frac{\\left(λ - \\frac{\\sqrt{4 λ + 1}}{2} + \\frac{1}{2}\\right)^{- x} \\left(2 λ + \\sqrt{4 λ + 1} + 1\\right)}{2 \\sqrt{4 λ + 1}}} & \\text{otherwise} \\end{cases}\\right)}} \\left(\\begin{cases} λ & \\text{for}\\: x \\leq -1 \\\\μ & \\text{for}\\: x < 1 \\\\λ & \\text{otherwise} \\end{cases}\\right)}{\\sqrt{1 + \\frac{4 \\left(\\begin{cases} λ^{2} & \\text{for}\\: x \\leq -1 \\\\μ^{2} & \\text{for}\\: x < 1 \\\\λ^{2} & \\text{otherwise} \\end{cases}\\right)}{\\left(- \\left(\\begin{cases} λ^{2} & \\text{for}\\: x \\leq -1 \\\\μ^{2} & \\text{for}\\: x < 1 \\\\λ^{2} & \\text{otherwise} \\end{cases}\\right) \\left(\\begin{cases} \\frac{1}{λ + \\frac{\\sqrt{4 λ + 1}}{2} + \\frac{1}{2}} & \\text{for}\\: x \\leq -1 \\\\\\frac{1}{- \\frac{λ^{2}}{λ + \\frac{\\sqrt{4 λ + 1}}{2} + \\frac{1}{2}} + λ + μ + 1} & \\text{for}\\: x < 1 \\\\\\frac{\\left(- \\frac{\\left(λ - \\frac{\\sqrt{4 λ + 1}}{2} + \\frac{1}{2}\\right)^{x - 1}}{\\sqrt{4 λ + 1}} + \\frac{\\left(λ + \\frac{\\sqrt{4 λ + 1}}{2} + \\frac{1}{2}\\right)^{x - 1}}{\\sqrt{4 λ + 1}}\\right) \\left(λ - \\frac{μ^{2}}{- \\frac{λ^{2}}{λ + \\frac{\\sqrt{4 λ + 1}}{2} + \\frac{1}{2}} + λ + μ + 1} + μ + 1\\right) + \\frac{\\left(- 2 λ + \\sqrt{4 λ + 1} - 1\\right) \\left(λ + \\frac{\\sqrt{4 λ + 1}}{2} + \\frac{1}{2}\\right)^{x - 1}}{2 \\sqrt{4 λ + 1}} + \\frac{\\left(λ - \\frac{\\sqrt{4 λ + 1}}{2} + \\frac{1}{2}\\right)^{x - 1} \\cdot \\left(2 λ + \\sqrt{4 λ + 1} + 1\\right)}{2 \\sqrt{4 λ + 1}}}{\\left(- \\frac{\\left(λ - \\frac{\\sqrt{4 λ + 1}}{2} + \\frac{1}{2}\\right) \\left(λ - \\frac{\\sqrt{4 λ + 1}}{2} + \\frac{1}{2}\\right)^{x - 1}}{\\sqrt{4 λ + 1}} + \\frac{\\left(λ + \\frac{\\sqrt{4 λ + 1}}{2} + \\frac{1}{2}\\right) \\left(λ + \\frac{\\sqrt{4 λ + 1}}{2} + \\frac{1}{2}\\right)^{x - 1}}{\\sqrt{4 λ + 1}}\\right) \\left(λ - \\frac{μ^{2}}{- \\frac{λ^{2}}{λ + \\frac{\\sqrt{4 λ + 1}}{2} + \\frac{1}{2}} + λ + μ + 1} + μ + 1\\right) + \\frac{\\left(- 2 λ + \\sqrt{4 λ + 1} - 1\\right) \\left(λ + \\frac{\\sqrt{4 λ + 1}}{2} + \\frac{1}{2}\\right) \\left(λ + \\frac{\\sqrt{4 λ + 1}}{2} + \\frac{1}{2}\\right)^{x - 1}}{2 \\sqrt{4 λ + 1}} + \\frac{\\left(λ - \\frac{\\sqrt{4 λ + 1}}{2} + \\frac{1}{2}\\right) \\left(λ - \\frac{\\sqrt{4 λ + 1}}{2} + \\frac{1}{2}\\right)^{x - 1} \\cdot \\left(2 λ + \\sqrt{4 λ + 1} + 1\\right)}{2 \\sqrt{4 λ + 1}}} & \\text{otherwise} \\end{cases}\\right) + \\begin{cases} λ + \\frac{\\sqrt{4 λ + 1}}{2} + \\frac{1}{2} & \\text{for}\\: x \\geq 1 \\\\- \\frac{λ^{2}}{λ + \\frac{\\sqrt{4 λ + 1}}{2} + \\frac{1}{2}} + λ + μ + 1 & \\text{for}\\: x > -1 \\\\\\frac{\\left(- \\frac{\\left(λ - \\frac{\\sqrt{4 λ + 1}}{2} + \\frac{1}{2}\\right) \\left(λ - \\frac{\\sqrt{4 λ + 1}}{2} + \\frac{1}{2}\\right)^{- x - 1}}{\\sqrt{4 λ + 1}} + \\frac{\\left(λ + \\frac{\\sqrt{4 λ + 1}}{2} + \\frac{1}{2}\\right) \\left(λ + \\frac{\\sqrt{4 λ + 1}}{2} + \\frac{1}{2}\\right)^{- x - 1}}{\\sqrt{4 λ + 1}}\\right) \\left(λ - \\frac{μ^{2}}{- \\frac{λ^{2}}{λ + \\frac{\\sqrt{4 λ + 1}}{2} + \\frac{1}{2}} + λ + μ + 1} + μ + 1\\right) + \\frac{\\left(- 2 λ + \\sqrt{4 λ + 1} - 1\\right) \\left(λ + \\frac{\\sqrt{4 λ + 1}}{2} + \\frac{1}{2}\\right) \\left(λ + \\frac{\\sqrt{4 λ + 1}}{2} + \\frac{1}{2}\\right)^{- x - 1}}{2 \\sqrt{4 λ + 1}} + \\frac{\\left(λ - \\frac{\\sqrt{4 λ + 1}}{2} + \\frac{1}{2}\\right) \\left(λ - \\frac{\\sqrt{4 λ + 1}}{2} + \\frac{1}{2}\\right)^{- x - 1} \\cdot \\left(2 λ + \\sqrt{4 λ + 1} + 1\\right)}{2 \\sqrt{4 λ + 1}}}{\\left(- \\frac{\\left(λ - \\frac{\\sqrt{4 λ + 1}}{2} + \\frac{1}{2}\\right)^{- x - 1}}{\\sqrt{4 λ + 1}} + \\frac{\\left(λ + \\frac{\\sqrt{4 λ + 1}}{2} + \\frac{1}{2}\\right)^{- x - 1}}{\\sqrt{4 λ + 1}}\\right) \\left(λ - \\frac{μ^{2}}{- \\frac{λ^{2}}{λ + \\frac{\\sqrt{4 λ + 1}}{2} + \\frac{1}{2}} + λ + μ + 1} + μ + 1\\right) + \\frac{\\left(- 2 λ + \\sqrt{4 λ + 1} - 1\\right) \\left(λ + \\frac{\\sqrt{4 λ + 1}}{2} + \\frac{1}{2}\\right)^{- x - 1}}{2 \\sqrt{4 λ + 1}} + \\frac{\\left(λ - \\frac{\\sqrt{4 λ + 1}}{2} + \\frac{1}{2}\\right)^{- x - 1} \\cdot \\left(2 λ + \\sqrt{4 λ + 1} + 1\\right)}{2 \\sqrt{4 λ + 1}}} & \\text{otherwise} \\end{cases}\\right) \\left(- \\left(\\begin{cases} λ^{2} & \\text{for}\\: x \\leq 0 \\\\μ^{2} & \\text{for}\\: x < 2 \\\\λ^{2} & \\text{otherwise} \\end{cases}\\right) \\left(\\begin{cases} \\frac{1}{λ + \\frac{\\sqrt{4 λ + 1}}{2} + \\frac{1}{2}} & \\text{for}\\: x \\leq 0 \\\\\\frac{1}{- \\frac{λ^{2}}{λ + \\frac{\\sqrt{4 λ + 1}}{2} + \\frac{1}{2}} + λ + μ + 1} & \\text{for}\\: x < 2 \\\\\\frac{\\left(- \\frac{\\left(λ - \\frac{\\sqrt{4 λ + 1}}{2} + \\frac{1}{2}\\right)^{x - 2}}{\\sqrt{4 λ + 1}} + \\frac{\\left(λ + \\frac{\\sqrt{4 λ + 1}}{2} + \\frac{1}{2}\\right)^{x - 2}}{\\sqrt{4 λ + 1}}\\right) \\left(λ - \\frac{μ^{2}}{- \\frac{λ^{2}}{λ + \\frac{\\sqrt{4 λ + 1}}{2} + \\frac{1}{2}} + λ + μ + 1} + μ + 1\\right) + \\frac{\\left(- 2 λ + \\sqrt{4 λ + 1} - 1\\right) \\left(λ + \\frac{\\sqrt{4 λ + 1}}{2} + \\frac{1}{2}\\right)^{x - 2}}{2 \\sqrt{4 λ + 1}} + \\frac{\\left(λ - \\frac{\\sqrt{4 λ + 1}}{2} + \\frac{1}{2}\\right)^{x - 2} \\cdot \\left(2 λ + \\sqrt{4 λ + 1} + 1\\right)}{2 \\sqrt{4 λ + 1}}}{\\left(- \\frac{\\left(λ - \\frac{\\sqrt{4 λ + 1}}{2} + \\frac{1}{2}\\right) \\left(λ - \\frac{\\sqrt{4 λ + 1}}{2} + \\frac{1}{2}\\right)^{x - 2}}{\\sqrt{4 λ + 1}} + \\frac{\\left(λ + \\frac{\\sqrt{4 λ + 1}}{2} + \\frac{1}{2}\\right) \\left(λ + \\frac{\\sqrt{4 λ + 1}}{2} + \\frac{1}{2}\\right)^{x - 2}}{\\sqrt{4 λ + 1}}\\right) \\left(λ - \\frac{μ^{2}}{- \\frac{λ^{2}}{λ + \\frac{\\sqrt{4 λ + 1}}{2} + \\frac{1}{2}} + λ + μ + 1} + μ + 1\\right) + \\frac{\\left(- 2 λ + \\sqrt{4 λ + 1} - 1\\right) \\left(λ + \\frac{\\sqrt{4 λ + 1}}{2} + \\frac{1}{2}\\right) \\left(λ + \\frac{\\sqrt{4 λ + 1}}{2} + \\frac{1}{2}\\right)^{x - 2}}{2 \\sqrt{4 λ + 1}} + \\frac{\\left(λ - \\frac{\\sqrt{4 λ + 1}}{2} + \\frac{1}{2}\\right) \\left(λ - \\frac{\\sqrt{4 λ + 1}}{2} + \\frac{1}{2}\\right)^{x - 2} \\cdot \\left(2 λ + \\sqrt{4 λ + 1} + 1\\right)}{2 \\sqrt{4 λ + 1}}} & \\text{otherwise} \\end{cases}\\right) + \\begin{cases} λ + \\frac{\\sqrt{4 λ + 1}}{2} + \\frac{1}{2} & \\text{for}\\: x \\geq 2 \\\\- \\frac{λ^{2}}{λ + \\frac{\\sqrt{4 λ + 1}}{2} + \\frac{1}{2}} + λ + μ + 1 & \\text{for}\\: x > 0 \\\\\\frac{\\left(- \\frac{\\left(λ - \\frac{\\sqrt{4 λ + 1}}{2} + \\frac{1}{2}\\right) \\left(λ - \\frac{\\sqrt{4 λ + 1}}{2} + \\frac{1}{2}\\right)^{- x}}{\\sqrt{4 λ + 1}} + \\frac{\\left(λ + \\frac{\\sqrt{4 λ + 1}}{2} + \\frac{1}{2}\\right) \\left(λ + \\frac{\\sqrt{4 λ + 1}}{2} + \\frac{1}{2}\\right)^{- x}}{\\sqrt{4 λ + 1}}\\right) \\left(λ - \\frac{μ^{2}}{- \\frac{λ^{2}}{λ + \\frac{\\sqrt{4 λ + 1}}{2} + \\frac{1}{2}} + λ + μ + 1} + μ + 1\\right) + \\frac{\\left(- 2 λ + \\sqrt{4 λ + 1} - 1\\right) \\left(λ + \\frac{\\sqrt{4 λ + 1}}{2} + \\frac{1}{2}\\right) \\left(λ + \\frac{\\sqrt{4 λ + 1}}{2} + \\frac{1}{2}\\right)^{- x}}{2 \\sqrt{4 λ + 1}} + \\frac{\\left(λ - \\frac{\\sqrt{4 λ + 1}}{2} + \\frac{1}{2}\\right) \\left(λ - \\frac{\\sqrt{4 λ + 1}}{2} + \\frac{1}{2}\\right)^{- x} \\left(2 λ + \\sqrt{4 λ + 1} + 1\\right)}{2 \\sqrt{4 λ + 1}}}{\\left(\\frac{\\left(λ + \\frac{\\sqrt{4 λ + 1}}{2} + \\frac{1}{2}\\right)^{- x}}{\\sqrt{4 λ + 1}} - \\frac{\\left(λ - \\frac{\\sqrt{4 λ + 1}}{2} + \\frac{1}{2}\\right)^{- x}}{\\sqrt{4 λ + 1}}\\right) \\left(λ - \\frac{μ^{2}}{- \\frac{λ^{2}}{λ + \\frac{\\sqrt{4 λ + 1}}{2} + \\frac{1}{2}} + λ + μ + 1} + μ + 1\\right) + \\frac{\\left(- 2 λ + \\sqrt{4 λ + 1} - 1\\right) \\left(λ + \\frac{\\sqrt{4 λ + 1}}{2} + \\frac{1}{2}\\right)^{- x}}{2 \\sqrt{4 λ + 1}} + \\frac{\\left(λ - \\frac{\\sqrt{4 λ + 1}}{2} + \\frac{1}{2}\\right)^{- x} \\left(2 λ + \\sqrt{4 λ + 1} + 1\\right)}{2 \\sqrt{4 λ + 1}}} & \\text{otherwise} \\end{cases}\\right)}} - 1} \\right)}$"
      ],
      "text/plain": [
       "log(2*sqrt(1/((-Piecewise((λ**2, x <= -1), (μ**2, x < 1), (λ**2, True))*Piecewise((1/(λ + sqrt(4*λ + 1)/2 + 1/2), x <= -1), (1/(-λ**2/(λ + sqrt(4*λ + 1)/2 + 1/2) + λ + μ + 1), x < 1), (((-(λ - sqrt(4*λ + 1)/2 + 1/2)**(x - 1)/sqrt(4*λ + 1) + (λ + sqrt(4*λ + 1)/2 + 1/2)**(x - 1)/sqrt(4*λ + 1))*(λ - μ**2/(-λ**2/(λ + sqrt(4*λ + 1)/2 + 1/2) + λ + μ + 1) + μ + 1) + (-2*λ + sqrt(4*λ + 1) - 1)*(λ + sqrt(4*λ + 1)/2 + 1/2)**(x - 1)/(2*sqrt(4*λ + 1)) + (λ - sqrt(4*λ + 1)/2 + 1/2)**(x - 1)*(2*λ + sqrt(4*λ + 1) + 1)/(2*sqrt(4*λ + 1)))/((-(λ - sqrt(4*λ + 1)/2 + 1/2)*(λ - sqrt(4*λ + 1)/2 + 1/2)**(x - 1)/sqrt(4*λ + 1) + (λ + sqrt(4*λ + 1)/2 + 1/2)*(λ + sqrt(4*λ + 1)/2 + 1/2)**(x - 1)/sqrt(4*λ + 1))*(λ - μ**2/(-λ**2/(λ + sqrt(4*λ + 1)/2 + 1/2) + λ + μ + 1) + μ + 1) + (-2*λ + sqrt(4*λ + 1) - 1)*(λ + sqrt(4*λ + 1)/2 + 1/2)*(λ + sqrt(4*λ + 1)/2 + 1/2)**(x - 1)/(2*sqrt(4*λ + 1)) + (λ - sqrt(4*λ + 1)/2 + 1/2)*(λ - sqrt(4*λ + 1)/2 + 1/2)**(x - 1)*(2*λ + sqrt(4*λ + 1) + 1)/(2*sqrt(4*λ + 1))), True)) + Piecewise((λ + sqrt(4*λ + 1)/2 + 1/2, x >= 1), (-λ**2/(λ + sqrt(4*λ + 1)/2 + 1/2) + λ + μ + 1, x > -1), (((-(λ - sqrt(4*λ + 1)/2 + 1/2)*(λ - sqrt(4*λ + 1)/2 + 1/2)**(-x - 1)/sqrt(4*λ + 1) + (λ + sqrt(4*λ + 1)/2 + 1/2)*(λ + sqrt(4*λ + 1)/2 + 1/2)**(-x - 1)/sqrt(4*λ + 1))*(λ - μ**2/(-λ**2/(λ + sqrt(4*λ + 1)/2 + 1/2) + λ + μ + 1) + μ + 1) + (-2*λ + sqrt(4*λ + 1) - 1)*(λ + sqrt(4*λ + 1)/2 + 1/2)*(λ + sqrt(4*λ + 1)/2 + 1/2)**(-x - 1)/(2*sqrt(4*λ + 1)) + (λ - sqrt(4*λ + 1)/2 + 1/2)*(λ - sqrt(4*λ + 1)/2 + 1/2)**(-x - 1)*(2*λ + sqrt(4*λ + 1) + 1)/(2*sqrt(4*λ + 1)))/((-(λ - sqrt(4*λ + 1)/2 + 1/2)**(-x - 1)/sqrt(4*λ + 1) + (λ + sqrt(4*λ + 1)/2 + 1/2)**(-x - 1)/sqrt(4*λ + 1))*(λ - μ**2/(-λ**2/(λ + sqrt(4*λ + 1)/2 + 1/2) + λ + μ + 1) + μ + 1) + (-2*λ + sqrt(4*λ + 1) - 1)*(λ + sqrt(4*λ + 1)/2 + 1/2)**(-x - 1)/(2*sqrt(4*λ + 1)) + (λ - sqrt(4*λ + 1)/2 + 1/2)**(-x - 1)*(2*λ + sqrt(4*λ + 1) + 1)/(2*sqrt(4*λ + 1))), True)))*(-Piecewise((λ**2, x <= 0), (μ**2, x < 2), (λ**2, True))*Piecewise((1/(λ + sqrt(4*λ + 1)/2 + 1/2), x <= 0), (1/(-λ**2/(λ + sqrt(4*λ + 1)/2 + 1/2) + λ + μ + 1), x < 2), (((-(λ - sqrt(4*λ + 1)/2 + 1/2)**(x - 2)/sqrt(4*λ + 1) + (λ + sqrt(4*λ + 1)/2 + 1/2)**(x - 2)/sqrt(4*λ + 1))*(λ - μ**2/(-λ**2/(λ + sqrt(4*λ + 1)/2 + 1/2) + λ + μ + 1) + μ + 1) + (-2*λ + sqrt(4*λ + 1) - 1)*(λ + sqrt(4*λ + 1)/2 + 1/2)**(x - 2)/(2*sqrt(4*λ + 1)) + (λ - sqrt(4*λ + 1)/2 + 1/2)**(x - 2)*(2*λ + sqrt(4*λ + 1) + 1)/(2*sqrt(4*λ + 1)))/((-(λ - sqrt(4*λ + 1)/2 + 1/2)*(λ - sqrt(4*λ + 1)/2 + 1/2)**(x - 2)/sqrt(4*λ + 1) + (λ + sqrt(4*λ + 1)/2 + 1/2)*(λ + sqrt(4*λ + 1)/2 + 1/2)**(x - 2)/sqrt(4*λ + 1))*(λ - μ**2/(-λ**2/(λ + sqrt(4*λ + 1)/2 + 1/2) + λ + μ + 1) + μ + 1) + (-2*λ + sqrt(4*λ + 1) - 1)*(λ + sqrt(4*λ + 1)/2 + 1/2)*(λ + sqrt(4*λ + 1)/2 + 1/2)**(x - 2)/(2*sqrt(4*λ + 1)) + (λ - sqrt(4*λ + 1)/2 + 1/2)*(λ - sqrt(4*λ + 1)/2 + 1/2)**(x - 2)*(2*λ + sqrt(4*λ + 1) + 1)/(2*sqrt(4*λ + 1))), True)) + Piecewise((λ + sqrt(4*λ + 1)/2 + 1/2, x >= 2), (-λ**2/(λ + sqrt(4*λ + 1)/2 + 1/2) + λ + μ + 1, x > 0), (((-(λ - sqrt(4*λ + 1)/2 + 1/2)/(sqrt(4*λ + 1)*(λ - sqrt(4*λ + 1)/2 + 1/2)**x) + (λ + sqrt(4*λ + 1)/2 + 1/2)/(sqrt(4*λ + 1)*(λ + sqrt(4*λ + 1)/2 + 1/2)**x))*(λ - μ**2/(-λ**2/(λ + sqrt(4*λ + 1)/2 + 1/2) + λ + μ + 1) + μ + 1) + (-2*λ + sqrt(4*λ + 1) - 1)*(λ + sqrt(4*λ + 1)/2 + 1/2)/(2*sqrt(4*λ + 1)*(λ + sqrt(4*λ + 1)/2 + 1/2)**x) + (λ - sqrt(4*λ + 1)/2 + 1/2)*(2*λ + sqrt(4*λ + 1) + 1)/(2*sqrt(4*λ + 1)*(λ - sqrt(4*λ + 1)/2 + 1/2)**x))/((1/(sqrt(4*λ + 1)*(λ + sqrt(4*λ + 1)/2 + 1/2)**x) - 1/(sqrt(4*λ + 1)*(λ - sqrt(4*λ + 1)/2 + 1/2)**x))*(λ - μ**2/(-λ**2/(λ + sqrt(4*λ + 1)/2 + 1/2) + λ + μ + 1) + μ + 1) + (-2*λ + sqrt(4*λ + 1) - 1)/(2*sqrt(4*λ + 1)*(λ + sqrt(4*λ + 1)/2 + 1/2)**x) + (2*λ + sqrt(4*λ + 1) + 1)/(2*sqrt(4*λ + 1)*(λ - sqrt(4*λ + 1)/2 + 1/2)**x)), True)))))*Piecewise((λ, x <= -1), (μ, x < 1), (λ, True))/(sqrt(1 + 4*Piecewise((λ**2, x <= -1), (μ**2, x < 1), (λ**2, True))/((-Piecewise((λ**2, x <= -1), (μ**2, x < 1), (λ**2, True))*Piecewise((1/(λ + sqrt(4*λ + 1)/2 + 1/2), x <= -1), (1/(-λ**2/(λ + sqrt(4*λ + 1)/2 + 1/2) + λ + μ + 1), x < 1), (((-(λ - sqrt(4*λ + 1)/2 + 1/2)**(x - 1)/sqrt(4*λ + 1) + (λ + sqrt(4*λ + 1)/2 + 1/2)**(x - 1)/sqrt(4*λ + 1))*(λ - μ**2/(-λ**2/(λ + sqrt(4*λ + 1)/2 + 1/2) + λ + μ + 1) + μ + 1) + (-2*λ + sqrt(4*λ + 1) - 1)*(λ + sqrt(4*λ + 1)/2 + 1/2)**(x - 1)/(2*sqrt(4*λ + 1)) + (λ - sqrt(4*λ + 1)/2 + 1/2)**(x - 1)*(2*λ + sqrt(4*λ + 1) + 1)/(2*sqrt(4*λ + 1)))/((-(λ - sqrt(4*λ + 1)/2 + 1/2)*(λ - sqrt(4*λ + 1)/2 + 1/2)**(x - 1)/sqrt(4*λ + 1) + (λ + sqrt(4*λ + 1)/2 + 1/2)*(λ + sqrt(4*λ + 1)/2 + 1/2)**(x - 1)/sqrt(4*λ + 1))*(λ - μ**2/(-λ**2/(λ + sqrt(4*λ + 1)/2 + 1/2) + λ + μ + 1) + μ + 1) + (-2*λ + sqrt(4*λ + 1) - 1)*(λ + sqrt(4*λ + 1)/2 + 1/2)*(λ + sqrt(4*λ + 1)/2 + 1/2)**(x - 1)/(2*sqrt(4*λ + 1)) + (λ - sqrt(4*λ + 1)/2 + 1/2)*(λ - sqrt(4*λ + 1)/2 + 1/2)**(x - 1)*(2*λ + sqrt(4*λ + 1) + 1)/(2*sqrt(4*λ + 1))), True)) + Piecewise((λ + sqrt(4*λ + 1)/2 + 1/2, x >= 1), (-λ**2/(λ + sqrt(4*λ + 1)/2 + 1/2) + λ + μ + 1, x > -1), (((-(λ - sqrt(4*λ + 1)/2 + 1/2)*(λ - sqrt(4*λ + 1)/2 + 1/2)**(-x - 1)/sqrt(4*λ + 1) + (λ + sqrt(4*λ + 1)/2 + 1/2)*(λ + sqrt(4*λ + 1)/2 + 1/2)**(-x - 1)/sqrt(4*λ + 1))*(λ - μ**2/(-λ**2/(λ + sqrt(4*λ + 1)/2 + 1/2) + λ + μ + 1) + μ + 1) + (-2*λ + sqrt(4*λ + 1) - 1)*(λ + sqrt(4*λ + 1)/2 + 1/2)*(λ + sqrt(4*λ + 1)/2 + 1/2)**(-x - 1)/(2*sqrt(4*λ + 1)) + (λ - sqrt(4*λ + 1)/2 + 1/2)*(λ - sqrt(4*λ + 1)/2 + 1/2)**(-x - 1)*(2*λ + sqrt(4*λ + 1) + 1)/(2*sqrt(4*λ + 1)))/((-(λ - sqrt(4*λ + 1)/2 + 1/2)**(-x - 1)/sqrt(4*λ + 1) + (λ + sqrt(4*λ + 1)/2 + 1/2)**(-x - 1)/sqrt(4*λ + 1))*(λ - μ**2/(-λ**2/(λ + sqrt(4*λ + 1)/2 + 1/2) + λ + μ + 1) + μ + 1) + (-2*λ + sqrt(4*λ + 1) - 1)*(λ + sqrt(4*λ + 1)/2 + 1/2)**(-x - 1)/(2*sqrt(4*λ + 1)) + (λ - sqrt(4*λ + 1)/2 + 1/2)**(-x - 1)*(2*λ + sqrt(4*λ + 1) + 1)/(2*sqrt(4*λ + 1))), True)))*(-Piecewise((λ**2, x <= 0), (μ**2, x < 2), (λ**2, True))*Piecewise((1/(λ + sqrt(4*λ + 1)/2 + 1/2), x <= 0), (1/(-λ**2/(λ + sqrt(4*λ + 1)/2 + 1/2) + λ + μ + 1), x < 2), (((-(λ - sqrt(4*λ + 1)/2 + 1/2)**(x - 2)/sqrt(4*λ + 1) + (λ + sqrt(4*λ + 1)/2 + 1/2)**(x - 2)/sqrt(4*λ + 1))*(λ - μ**2/(-λ**2/(λ + sqrt(4*λ + 1)/2 + 1/2) + λ + μ + 1) + μ + 1) + (-2*λ + sqrt(4*λ + 1) - 1)*(λ + sqrt(4*λ + 1)/2 + 1/2)**(x - 2)/(2*sqrt(4*λ + 1)) + (λ - sqrt(4*λ + 1)/2 + 1/2)**(x - 2)*(2*λ + sqrt(4*λ + 1) + 1)/(2*sqrt(4*λ + 1)))/((-(λ - sqrt(4*λ + 1)/2 + 1/2)*(λ - sqrt(4*λ + 1)/2 + 1/2)**(x - 2)/sqrt(4*λ + 1) + (λ + sqrt(4*λ + 1)/2 + 1/2)*(λ + sqrt(4*λ + 1)/2 + 1/2)**(x - 2)/sqrt(4*λ + 1))*(λ - μ**2/(-λ**2/(λ + sqrt(4*λ + 1)/2 + 1/2) + λ + μ + 1) + μ + 1) + (-2*λ + sqrt(4*λ + 1) - 1)*(λ + sqrt(4*λ + 1)/2 + 1/2)*(λ + sqrt(4*λ + 1)/2 + 1/2)**(x - 2)/(2*sqrt(4*λ + 1)) + (λ - sqrt(4*λ + 1)/2 + 1/2)*(λ - sqrt(4*λ + 1)/2 + 1/2)**(x - 2)*(2*λ + sqrt(4*λ + 1) + 1)/(2*sqrt(4*λ + 1))), True)) + Piecewise((λ + sqrt(4*λ + 1)/2 + 1/2, x >= 2), (-λ**2/(λ + sqrt(4*λ + 1)/2 + 1/2) + λ + μ + 1, x > 0), (((-(λ - sqrt(4*λ + 1)/2 + 1/2)/(sqrt(4*λ + 1)*(λ - sqrt(4*λ + 1)/2 + 1/2)**x) + (λ + sqrt(4*λ + 1)/2 + 1/2)/(sqrt(4*λ + 1)*(λ + sqrt(4*λ + 1)/2 + 1/2)**x))*(λ - μ**2/(-λ**2/(λ + sqrt(4*λ + 1)/2 + 1/2) + λ + μ + 1) + μ + 1) + (-2*λ + sqrt(4*λ + 1) - 1)*(λ + sqrt(4*λ + 1)/2 + 1/2)/(2*sqrt(4*λ + 1)*(λ + sqrt(4*λ + 1)/2 + 1/2)**x) + (λ - sqrt(4*λ + 1)/2 + 1/2)*(2*λ + sqrt(4*λ + 1) + 1)/(2*sqrt(4*λ + 1)*(λ - sqrt(4*λ + 1)/2 + 1/2)**x))/((1/(sqrt(4*λ + 1)*(λ + sqrt(4*λ + 1)/2 + 1/2)**x) - 1/(sqrt(4*λ + 1)*(λ - sqrt(4*λ + 1)/2 + 1/2)**x))*(λ - μ**2/(-λ**2/(λ + sqrt(4*λ + 1)/2 + 1/2) + λ + μ + 1) + μ + 1) + (-2*λ + sqrt(4*λ + 1) - 1)/(2*sqrt(4*λ + 1)*(λ + sqrt(4*λ + 1)/2 + 1/2)**x) + (2*λ + sqrt(4*λ + 1) + 1)/(2*sqrt(4*λ + 1)*(λ - sqrt(4*λ + 1)/2 + 1/2)**x)), True))))) - 1))"
      ]
     },
     "metadata": {},
     "output_type": "display_data"
    }
   ],
   "source": [
    "dt = sp.log((2*sp.sqrt(asqr.replace(x,x-1)*asqr)*W)/(-1 + sp.sqrt(4*asqr.replace(x,x-1)*asqr*W*W+1)))\n",
    "display(dt)"
   ]
  },
  {
   "cell_type": "markdown",
   "id": "fdf6293d-77d8-41a2-a2c1-82c14343ad0c",
   "metadata": {},
   "source": [
    "# Domain Transform at $x_0$"
   ]
  },
  {
   "cell_type": "markdown",
   "id": "f5191814-b301-4def-ad18-368b61b2db2e",
   "metadata": {},
   "source": [
    "In the expression\n",
    "\n",
    "$ (t(0)-t(-1)) = -\\log \\left( \\frac{-1 + \\sqrt{4 a(-1)^2 a(0)^2W(0)^2+1}}{2 a(-1)a(0)W(0)}\\right)$\n",
    "\n",
    "Using the substitution  $\\lambda = n(n+1)$ and $\\mu = w_0 n (n+1)$ we can greatly simplify the expressions. Define \n",
    "\n",
    "$U := 4 a(-1)^2a(0)^2W(0)^2$\n",
    "\n",
    "$ (t(0)-t(-1)) = -\\log \\left( \\frac{-1 + \\sqrt{U+1}}{\\sqrt{U}}\\right)$"
   ]
  },
  {
   "cell_type": "code",
   "execution_count": 429,
   "id": "63a83765-6ec1-46b5-8e5a-58a4fc21cbae",
   "metadata": {},
   "outputs": [
    {
     "data": {
      "text/latex": [
       "$U = $ $\\frac{4 n^{2} w_{0}^{2} \\left(n w_{0} + 1\\right)^{2}}{\\left(2 n w_{0} + 1\\right)^{2}}$"
      ],
      "text/plain": [
       "<IPython.core.display.Latex object>"
      ]
     },
     "metadata": {},
     "output_type": "display_data"
    }
   ],
   "source": [
    "n = sp.Symbol('n',positive=True)\n",
    "w0 = sp.Symbol('w0',positive=True)\n",
    "\n",
    "U = ((4*asqr.subs(x,-1)*asqr.subs(x,0)*W.subs(x,0)**2)) #evaluate at 0\n",
    "U = U.subs({\n",
    "    λ:n*(n+1),\n",
    "    μ:w0*n*(n+1),\n",
    "})\n",
    "U = U.subs({\n",
    "    4*n*(n+1)+1: (2*n+1)**2, #simplifies square root terms\n",
    "}   \n",
    ").simplify()\n",
    "\n",
    "U = U.subs({\n",
    "    n**2 * w0**2 + 2*n *w0 +1 : (n*w0 + 1)**2, #simplifies square root terms\n",
    "    4*n**2 * w0**2 + 4*n *w0 +1 : (2*n*w0 + 1)**2, #simplifies square root terms\n",
    "})\n",
    "\n",
    "display(Latex(r\"$U = $ \" + sp.latex(U, mode='inline')))\n"
   ]
  },
  {
   "cell_type": "markdown",
   "id": "263176fb-bbda-4e20-a2f2-821aaaaa9066",
   "metadata": {},
   "source": [
    "We then get the expression at the origin"
   ]
  },
  {
   "cell_type": "code",
   "execution_count": 437,
   "id": "d8d2c490-0a11-428c-8023-706f1388256c",
   "metadata": {},
   "outputs": [
    {
     "data": {
      "text/latex": [
       "$\\Delta t(0) = $ $- \\log{\\left(- \\frac{2 n w_{0} - \\sqrt{4 n^{2} w_{0}^{2} \\left(n w_{0} + 1\\right)^{2} + \\left(2 n w_{0} + 1\\right)^{2}} + 1}{2 n w_{0} \\left(n w_{0} + 1\\right)} \\right)}$"
      ],
      "text/plain": [
       "<IPython.core.display.Latex object>"
      ]
     },
     "metadata": {},
     "output_type": "display_data"
    }
   ],
   "source": [
    "dt_at_0 = (-sp.log((-1 + sp.sqrt(U + 1))/sp.sqrt(U))).simplify()\n",
    "\n",
    "display(Latex(r\"$\\Delta t(0) = $ \" + sp.latex(dt_at_0, mode='inline')))"
   ]
  },
  {
   "cell_type": "markdown",
   "id": "5ec338c9-865a-42e6-91d1-d171e8e178c4",
   "metadata": {},
   "source": [
    "We further simplify this with\n",
    "\n",
    "$4 n^2  w_0^2 (n w_0+1)^2 + (2 n w_0 + 1)^2 \\mapsto (1 + 2 n w_0(1 + n w_0))^2$"
   ]
  },
  {
   "cell_type": "code",
   "execution_count": 441,
   "id": "6356b7a3-08dc-4a81-8acf-ac7e1178cb7e",
   "metadata": {},
   "outputs": [
    {
     "data": {
      "text/latex": [
       "$\\Delta t(0) = $ $\\log{\\left(1 + 1 / n w_{0} \\right)}$"
      ],
      "text/plain": [
       "<IPython.core.display.Latex object>"
      ]
     },
     "metadata": {},
     "output_type": "display_data"
    }
   ],
   "source": [
    "dt_at_0 = dt_at_0.subs({\n",
    "    ((4*n**2 * w0**2 *(n*w0+1)**2 + (2*n*w0 + 1)**2)) : (1 + 2*n*w0*(1 + n*w0))**2,\n",
    "}).expand().simplify()\n",
    "\n",
    "display(Latex(r\"$\\Delta t(0) = $ \" + sp.latex(dt_at_0, mode='inline')))"
   ]
  },
  {
   "cell_type": "markdown",
   "id": "4ad920b2-db77-4e2d-896d-dfbbfc2d030f",
   "metadata": {},
   "source": [
    "# Solutions for the barrier with $\\lambda=2$"
   ]
  },
  {
   "cell_type": "markdown",
   "id": "778de44a-f4a5-41ab-b82e-f3f6d91b8d4d",
   "metadata": {},
   "source": [
    "We begin by obtaining a simplified formula for $a(x)^2$"
   ]
  },
  {
   "cell_type": "code",
   "execution_count": 373,
   "id": "bf81040f-75a5-4750-a6d3-fdf6790df830",
   "metadata": {},
   "outputs": [
    {
     "data": {
      "text/latex": [
       "$a(x)^2 = $ $\\begin{cases} \\frac{- 4 \\cdot 2^{2 x} w_{0} - 2 \\cdot 2^{2 x} + w_{0} - 1}{2 \\cdot \\left(2 \\cdot 2^{2 x} w_{0} - 8 \\cdot 4^{x} w_{0} - 3 \\cdot 4^{x}\\right)} & \\text{for}\\: x \\geq 1 \\\\\\frac{w_{0} + 1}{2 \\cdot \\left(2 w_{0} + 1\\right)} & \\text{for}\\: x > -1 \\\\\\frac{- 2^{2 x + 1} w_{0} + 2^{2 x + 1} + 2 w_{0} + 1}{3 \\cdot \\left(2 w_{0} + 1\\right)} & \\text{otherwise} \\end{cases}$"
      ],
      "text/plain": [
       "<IPython.core.display.Latex object>"
      ]
     },
     "metadata": {},
     "output_type": "display_data"
    }
   ],
   "source": [
    "W_2 = W.subs({\n",
    "  λ : 2,\n",
    "  μ: w0*2,\n",
    "})\n",
    "\n",
    "asqr_2 = asqr.subs({\n",
    "  λ : 2,\n",
    "  μ: w0*2,\n",
    "}).simplify()\n",
    "\n",
    "display(Latex(r\"$a(x)^2 = $ \" + sp.latex(asqr_2, mode='inline')))\n"
   ]
  },
  {
   "cell_type": "markdown",
   "id": "5c605503-481f-46dc-98ca-3636b9214ade",
   "metadata": {},
   "source": [
    "We make better simplifications by defining dt as a new piecewise function to satisfy\n",
    "\n",
    "$ (t(x)-t(x-1)) = -\\log \\left( \\frac{-1 + \\sqrt{4 a(x-1)^2 a(x)^2W(x)^2+1}}{2 a(x-1)a(x)W(x)}\\right)$\n",
    "\n",
    "Extract the piecewise parts of $a(x)$"
   ]
  },
  {
   "cell_type": "code",
   "execution_count": 374,
   "id": "ab56474d-8f7b-40e0-8e8d-9aa568a1f6f6",
   "metadata": {},
   "outputs": [
    {
     "data": {
      "text/latex": [
       "$\\displaystyle \\frac{- 4 \\cdot 2^{2 x} w_{0} - 2 \\cdot 2^{2 x} + w_{0} - 1}{2 \\cdot \\left(2 \\cdot 2^{2 x} w_{0} - 8 \\cdot 4^{x} w_{0} - 3 \\cdot 4^{x}\\right)}$"
      ],
      "text/plain": [
       "(-4*2**(2*x)*w0 - 2*2**(2*x) + w0 - 1)/(2*(2*2**(2*x)*w0 - 8*4**x*w0 - 3*4**x))"
      ]
     },
     "execution_count": 374,
     "metadata": {},
     "output_type": "execute_result"
    }
   ],
   "source": [
    "xpos = sp.Symbol('x',positive=True)\n",
    "#extract the part x>=0\n",
    "asqr_2_above_0 = asqr_2.subs({\n",
    " x : x+1\n",
    "}\n",
    ").subs(x, xpos).subs(xpos,x-1)\n",
    "asqr_2_above_0"
   ]
  },
  {
   "cell_type": "code",
   "execution_count": 375,
   "id": "20b2c723-a4e7-49ab-bd78-c65c1b5f7bc2",
   "metadata": {
    "scrolled": true
   },
   "outputs": [
    {
     "data": {
      "text/latex": [
       "$\\displaystyle \\frac{- 2^{2 x + 1} w_{0} + 2^{2 x + 1} + 2 w_{0} + 1}{3 \\cdot \\left(2 w_{0} + 1\\right)}$"
      ],
      "text/plain": [
       "(-2**(2*x + 1)*w0 + 2**(2*x + 1) + 2*w0 + 1)/(3*(2*w0 + 1))"
      ]
     },
     "execution_count": 375,
     "metadata": {},
     "output_type": "execute_result"
    }
   ],
   "source": [
    "#extract the part x<0\n",
    "asqr_2_below_0 = asqr_2.subs({\n",
    " x : -x-1\n",
    "}\n",
    ").subs(x, xpos).subs(xpos, -x-1)\n",
    "asqr_2_below_0"
   ]
  },
  {
   "cell_type": "markdown",
   "id": "8d30d934-0f89-419a-9af4-5f294fcf0383",
   "metadata": {},
   "source": [
    "We can observe the identity $a(x) = a(-x-1)$"
   ]
  },
  {
   "cell_type": "code",
   "execution_count": 376,
   "id": "16a41c3e-e891-4a10-834d-c41bb0c17b94",
   "metadata": {},
   "outputs": [
    {
     "data": {
      "text/latex": [
       "$\\displaystyle 0$"
      ],
      "text/plain": [
       "0"
      ]
     },
     "execution_count": 376,
     "metadata": {},
     "output_type": "execute_result"
    }
   ],
   "source": [
    "(asqr_2_above_0.subs(x,x) - asqr_2_below_0.subs(x,-x-1)).simplify()"
   ]
  },
  {
   "cell_type": "markdown",
   "id": "7243d5e4-59b0-46c6-a5ab-b9915be90250",
   "metadata": {},
   "source": [
    "We can also simplify $a(x)$ to "
   ]
  },
  {
   "cell_type": "code",
   "execution_count": 519,
   "id": "8c1c5ad5-c5d1-464a-a71e-b2094ed20b7b",
   "metadata": {},
   "outputs": [
    {
     "data": {
      "text/latex": [
       "$a(x)^2 = $ $\\begin{cases} \\frac{4 w_{0} + 2 - 4^{- x} w_{0} + 4^{- x}}{12 w_{0} + 6} & \\text{for}\\: x \\geq 0 \\\\\\frac{- 4^{x + 1} w_{0} + 4^{x + 1} + 4 w_{0} + 2}{12 w_{0} + 6} & \\text{otherwise} \\end{cases}$"
      ],
      "text/plain": [
       "<IPython.core.display.Latex object>"
      ]
     },
     "metadata": {},
     "output_type": "display_data"
    }
   ],
   "source": [
    "asqr_2_above_0_simplified = asqr_2_above_0.subs(2**(2*x),4**x) #replace 2^2x by 4^x\n",
    "asqr_2_above_0_simplified = ((-sp.numer(asqr_2_above_0_simplified)/(4**x)).expand()/\n",
    "                             (-(sp.denom(asqr_2_above_0_simplified)/(4**x)).expand())\n",
    "                            )\n",
    "asqr_2_simplified = sp.Piecewise(\n",
    "    (asqr_2_above_0_simplified, x >=0),\n",
    "    (asqr_2_above_0_simplified.subs(x,-x-1), x<0)\n",
    ")\n",
    "\n",
    "\n",
    "display(Latex(r\"$a(x)^2 = $ \" + sp.latex(asqr_2_simplified, mode='inline')))"
   ]
  },
  {
   "cell_type": "markdown",
   "id": "f0816c21-6cae-4813-bcb6-fc6f8d30ed7f",
   "metadata": {},
   "source": [
    "This means that the domain transform is symmetric, because it is composed of terms $a(x)a(x-1)W(x)$, to which we apply the identity $a(x) = a(-x-1)$, and use that $W(x)$ is symmetric\n",
    "\n",
    "$a(x)a(x-1)W(x) = a(-x-1)a(-(x-1)-1)W(-x) = a(-x-1)a(-x)W(x)$\n",
    "\n",
    "This confirms the symmetry of the domain transform. We then only need to find expressions for positive $x$ for the transform."
   ]
  },
  {
   "cell_type": "code",
   "execution_count": 381,
   "id": "6dec9a25-9fe2-4589-bc1b-f970a482eaec",
   "metadata": {},
   "outputs": [
    {
     "data": {
      "text/latex": [
       "$\\Delta t(x) = $ $- \\log{\\left(\\frac{\\sqrt{1 + \\frac{4 \\left(- 4 \\cdot 2^{2 x} w_{0} - 2 \\cdot 2^{2 x} + w_{0} - 1\\right) \\left(- 4 \\cdot 2^{2 x - 2} w_{0} - 2 \\cdot 2^{2 x - 2} + w_{0} - 1\\right)}{\\left(2 \\cdot 2^{2 x} w_{0} - 8 \\cdot 4^{x} w_{0} - 3 \\cdot 4^{x}\\right) \\left(2 \\cdot 2^{2 x - 2} w_{0} - 8 \\cdot 4^{x - 1} w_{0} - 3 \\cdot 4^{x - 1}\\right)}} - 1}{2 \\sqrt{\\frac{\\left(- 4 \\cdot 2^{2 x} w_{0} - 2 \\cdot 2^{2 x} + w_{0} - 1\\right) \\left(- 4 \\cdot 2^{2 x - 2} w_{0} - 2 \\cdot 2^{2 x - 2} + w_{0} - 1\\right)}{\\left(2 \\cdot 2^{2 x} w_{0} - 8 \\cdot 4^{x} w_{0} - 3 \\cdot 4^{x}\\right) \\left(2 \\cdot 2^{2 x - 2} w_{0} - 8 \\cdot 4^{x - 1} w_{0} - 3 \\cdot 4^{x - 1}\\right)}}} \\right)}$"
      ],
      "text/plain": [
       "<IPython.core.display.Latex object>"
      ]
     },
     "metadata": {},
     "output_type": "display_data"
    },
    {
     "data": {
      "text/latex": [
       "We will show how to simplify this expression to"
      ],
      "text/plain": [
       "<IPython.core.display.Latex object>"
      ]
     },
     "metadata": {},
     "output_type": "display_data"
    },
    {
     "data": {
      "text/latex": [
       "$\\displaystyle \\frac{\\log{\\left(\\frac{6 \\left(w_{0} - 1\\right)}{2 \\cdot 4^{k} w_{0} + 4^{k} - 2 w_{0} + 2} + 4 \\right)}}{2}$"
      ],
      "text/plain": [
       "<IPython.core.display.Math object>"
      ]
     },
     "execution_count": 381,
     "metadata": {},
     "output_type": "execute_result"
    }
   ],
   "source": [
    "#define dt(x) for x>0\n",
    "dt_2_above_0 = -sp.log((-1 + sp.sqrt(4*asqr_2_above_0.subs(x,x-1)*asqr_2_above_0 * W_2.subs(x,1)**2+1))/(\n",
    "        2*sp.sqrt(asqr_2_above_0.subs(x,x-1)*asqr_2_above_0) * W_2.subs(x,-1)))\n",
    "\n",
    "display(Latex(r\"$\\Delta t(x) = $ \" + sp.latex(dt_2_above_0, mode='inline')))\n",
    "\n",
    "display(Latex(\"We will show how to simplify this expression to\"))\n",
    "\n",
    "Math('\\\\frac{\\\\log{\\\\left(\\\\frac{6 \\\\left(w_{0} - 1\\\\right)}{2 \\\\cdot 4^{k} w_{0} + 4^{k} - 2 w_{0} + 2} + 4 \\\\right)}}{2}')"
   ]
  },
  {
   "cell_type": "code",
   "execution_count": 442,
   "id": "11db067d-eeaf-48ba-96c8-01d72a7a645d",
   "metadata": {},
   "outputs": [
    {
     "data": {
      "text/latex": [
       "We begin with"
      ],
      "text/plain": [
       "<IPython.core.display.Latex object>"
      ]
     },
     "metadata": {},
     "output_type": "display_data"
    },
    {
     "data": {
      "text/latex": [
       "$\\Delta t(x) = $ $- \\log{\\left(\\frac{\\sqrt{1 + \\frac{4 \\left(- 4 \\cdot 2^{2 x} w_{0} - 2 \\cdot 2^{2 x} + w_{0} - 1\\right) \\left(- 4 \\cdot 2^{2 x - 2} w_{0} - 2 \\cdot 2^{2 x - 2} + w_{0} - 1\\right)}{\\left(2 \\cdot 2^{2 x} w_{0} - 8 \\cdot 4^{x} w_{0} - 3 \\cdot 4^{x}\\right) \\left(2 \\cdot 2^{2 x - 2} w_{0} - 8 \\cdot 4^{x - 1} w_{0} - 3 \\cdot 4^{x - 1}\\right)}} - 1}{2 \\sqrt{\\frac{\\left(- 4 \\cdot 2^{2 x} w_{0} - 2 \\cdot 2^{2 x} + w_{0} - 1\\right) \\left(- 4 \\cdot 2^{2 x - 2} w_{0} - 2 \\cdot 2^{2 x - 2} + w_{0} - 1\\right)}{\\left(2 \\cdot 2^{2 x} w_{0} - 8 \\cdot 4^{x} w_{0} - 3 \\cdot 4^{x}\\right) \\left(2 \\cdot 2^{2 x - 2} w_{0} - 8 \\cdot 4^{x - 1} w_{0} - 3 \\cdot 4^{x - 1}\\right)}}} \\right)}$"
      ],
      "text/plain": [
       "<IPython.core.display.Latex object>"
      ]
     },
     "metadata": {},
     "output_type": "display_data"
    }
   ],
   "source": [
    "#define dt(x) for x>0\n",
    "dt_2_above_0 = -sp.log((-1 + sp.sqrt(4*asqr_2_above_0.subs(x,x-1)*asqr_2_above_0 * W_2.subs(x,1)**2+1))/(\n",
    "        2*sp.sqrt(asqr_2_above_0.subs(x,x-1)*asqr_2_above_0) * W_2.subs(x,-1)))\n",
    "display(Latex(\"We begin with\"))\n",
    "\n",
    "display(Latex(r\"$\\Delta t(x) = $ \" + sp.latex(dt_2_above_0, mode='inline')))\n",
    "\n"
   ]
  },
  {
   "cell_type": "code",
   "execution_count": 443,
   "id": "eb9091cf-f33e-46db-9027-f7d1c903085d",
   "metadata": {},
   "outputs": [
    {
     "data": {
      "text/latex": [
       "By replacing $4^k$ with a variable $z$, we get"
      ],
      "text/plain": [
       "<IPython.core.display.Latex object>"
      ]
     },
     "metadata": {},
     "output_type": "display_data"
    },
    {
     "data": {
      "text/latex": [
       "$\\Delta t(x) = $ $\\log{\\left(\\frac{2 \\sqrt{16 w_{0}^{2} z^{2} - 20 w_{0}^{2} z + 4 w_{0}^{2} + 16 w_{0} z^{2} + 10 w_{0} z - 8 w_{0} + 4 z^{2} + 10 z + 4}}{- 6 w_{0} z - 3 z + \\sqrt{9 z^{2} \\left(2 w_{0} + 1\\right)^{2} + 8 \\cdot \\left(2 w_{0} z - 2 w_{0} + z + 2\\right) \\left(4 w_{0} z - w_{0} + 2 z + 1\\right)}} \\right)}$"
      ],
      "text/plain": [
       "<IPython.core.display.Latex object>"
      ]
     },
     "metadata": {},
     "output_type": "display_data"
    }
   ],
   "source": [
    "display(Latex(\"By replacing $4^k$ with a variable $z$, we get\"))\n",
    "z = sp.Symbol('z', positive=True)\n",
    "#exp_dt_2_above_0 = sp.exp(-dt_2_above_0)\n",
    "exp_dt_2_above_0 = sp.exp(dt_2_above_0)\n",
    "exp_dt_2_above_0 = exp_dt_2_above_0.subs({\n",
    "    2**(2*x): z,\n",
    "    4**x : z\n",
    "}).simplify()\n",
    "\n",
    "display(Latex(r\"$\\Delta t(x) = $ \" + sp.latex(sp.log(exp_dt_2_above_0), mode='inline')))"
   ]
  },
  {
   "cell_type": "code",
   "execution_count": 446,
   "id": "420bea67-84d3-4fc8-9b24-f72c7949b969",
   "metadata": {},
   "outputs": [
    {
     "data": {
      "text/latex": [
       "The polynomial in $z$ inside the square-root term in the denominator is"
      ],
      "text/plain": [
       "<IPython.core.display.Latex object>"
      ]
     },
     "metadata": {},
     "output_type": "display_data"
    },
    {
     "data": {
      "text/latex": [
       "$P(z) = $ $9 z^{2} \\left(2 w_{0} + 1\\right)^{2} + 8 \\cdot \\left(2 w_{0} z - 2 w_{0} + z + 2\\right) \\left(4 w_{0} z - w_{0} + 2 z + 1\\right)$"
      ],
      "text/plain": [
       "<IPython.core.display.Latex object>"
      ]
     },
     "metadata": {},
     "output_type": "display_data"
    },
    {
     "data": {
      "text/latex": [
       "This polynomial has two equal roots given by $\\frac{4 \\left(w_{0} - 1\\right)}{5 \\cdot \\left(2 w_{0} + 1\\right)}$"
      ],
      "text/plain": [
       "<IPython.core.display.Latex object>"
      ]
     },
     "metadata": {},
     "output_type": "display_data"
    }
   ],
   "source": [
    "display(Latex(\"The polynomial in $z$ inside the square-root term in the denominator is\"))\n",
    "Pz = (((sp.denom(exp_dt_2_above_0)) +3*z + 6*w0*z)**2)\n",
    "display(Latex(r\"$P(z) = $ \" + sp.latex(Pz, mode='inline')))\n",
    "\n",
    "roots = list(sp.roots(Pz.expand(),z).keys()) #extract the roots in w0 as a list\n",
    "root = roots[0]\n",
    "\n",
    "display(Latex(\"This polynomial has two equal roots given by \" +  sp.latex(root, mode='inline')))"
   ]
  },
  {
   "cell_type": "code",
   "execution_count": 447,
   "id": "a5514ca7-464f-4531-99c1-7fcb8a03ff22",
   "metadata": {},
   "outputs": [
    {
     "data": {
      "text/latex": [
       "This means we can write it as $multiplier(z- root)^2$ in the form"
      ],
      "text/plain": [
       "<IPython.core.display.Latex object>"
      ]
     },
     "metadata": {},
     "output_type": "display_data"
    },
    {
     "data": {
      "text/latex": [
       "$P(z) = $ $\\left(z - \\frac{4 \\left(w_{0} - 1\\right)}{5 \\cdot \\left(2 w_{0} + 1\\right)}\\right)^{2} \\cdot \\left(100 w_{0}^{2} + 100 w_{0} + 25\\right)$"
      ],
      "text/plain": [
       "<IPython.core.display.Latex object>"
      ]
     },
     "metadata": {},
     "output_type": "display_data"
    }
   ],
   "source": [
    "multiplier = sp.collect(Pz.expand(),z,evaluate=False)[z**2] #collect the term multiplying z^2 in the polynomial\n",
    "\n",
    "display(Latex(\"This means we can write it as $multiplier(z- root)^2$ in the form\"))\n",
    "\n",
    "display(Latex(\"$P(z) = $ \" +  sp.latex(multiplier*(z-root)**2, mode='inline')))\n"
   ]
  },
  {
   "cell_type": "code",
   "execution_count": 449,
   "id": "2526534a-051b-4d0a-9fdf-de487086ca08",
   "metadata": {},
   "outputs": [
    {
     "data": {
      "text/latex": [
       "Replacing $4w_0^2 + 4w_0 +1$ by $(2w_0+1)^2$ , the polynomial becomes"
      ],
      "text/plain": [
       "<IPython.core.display.Latex object>"
      ]
     },
     "metadata": {},
     "output_type": "display_data"
    },
    {
     "data": {
      "text/latex": [
       "$P(z) = $ $\\left(- 4 w_{0} + 5 z \\left(2 w_{0} + 1\\right) + 4\\right)^{2}$"
      ],
      "text/plain": [
       "<IPython.core.display.Latex object>"
      ]
     },
     "metadata": {},
     "output_type": "display_data"
    }
   ],
   "source": [
    "display(Latex(\"Replacing $4w_0^2 + 4w_0 +1$ by $(2w_0+1)^2$ , the polynomial becomes\"))\n",
    "display(Latex(\"$P(z) = $ \" +  sp.latex((multiplier*(z-root)**2).simplify().subs(4*w0**2 + 4*w0 + 1, (2*w0+1)**2), mode='inline')))"
   ]
  },
  {
   "cell_type": "code",
   "execution_count": 453,
   "id": "4821956d-b4da-4370-bbbf-d320329c2c65",
   "metadata": {},
   "outputs": [
    {
     "data": {
      "text/latex": [
       "Then the domain transform simplifies to"
      ],
      "text/plain": [
       "<IPython.core.display.Latex object>"
      ]
     },
     "metadata": {},
     "output_type": "display_data"
    },
    {
     "data": {
      "text/latex": [
       "$\\Delta t(x) = $ $\\log{\\left(\\frac{\\left(- 4 w_{0} - 2\\right) \\sqrt{16 w_{0}^{2} z^{2} - 20 w_{0}^{2} z + 4 w_{0}^{2} + 16 w_{0} z^{2} + 10 w_{0} z - 8 w_{0} + 4 z^{2} + 10 z + 4}}{3 z \\left(2 w_{0} + 1\\right)^{2} - \\left(2 w_{0} + 1\\right) \\left(- 4 w_{0} + 5 z \\left(2 w_{0} + 1\\right) + 4\\right)} \\right)}$"
      ],
      "text/plain": [
       "<IPython.core.display.Latex object>"
      ]
     },
     "metadata": {},
     "output_type": "display_data"
    }
   ],
   "source": [
    "exp_dt_2_above_0_simplified = exp_dt_2_above_0.subs({\n",
    "sp.sqrt(Pz) :  sp.sqrt(multiplier)*(z-root) #compute sqrt by hand\n",
    "}).simplify().subs({\n",
    "     sp.sqrt(4*w0**2 + 4*w0 +1) : (2*w0+1)\n",
    "\n",
    "})\n",
    "\n",
    "display(Latex(\"Then the domain transform simplifies to\"))\n",
    "\n",
    "display(Latex(r\"$\\Delta t(x) = $ \" + sp.latex(sp.log(exp_dt_2_above_0_simplified), mode='inline')))"
   ]
  },
  {
   "cell_type": "code",
   "execution_count": 454,
   "id": "dbae1917-b278-4ce2-96a7-dcd177d9a28a",
   "metadata": {},
   "outputs": [
    {
     "data": {
      "text/latex": [
       "This is rewritten as"
      ],
      "text/plain": [
       "<IPython.core.display.Latex object>"
      ]
     },
     "metadata": {},
     "output_type": "display_data"
    },
    {
     "data": {
      "text/latex": [
       "$\\Delta t(x) = $ $\\log{\\left(\\frac{\\sqrt{16 w_{0}^{2} z^{2} - 20 w_{0}^{2} z + 4 w_{0}^{2} + 16 w_{0} z^{2} + 10 w_{0} z - 8 w_{0} + 4 z^{2} + 10 z + 4}}{2 w_{0} z - 2 w_{0} + z + 2} \\right)}$"
      ],
      "text/plain": [
       "<IPython.core.display.Latex object>"
      ]
     },
     "metadata": {},
     "output_type": "display_data"
    }
   ],
   "source": [
    "#we further simplify by replacing 4w0^2 + 4w0 +1 by (2w0+1)^2\n",
    "exp_dt_2_above_0_simplified = exp_dt_2_above_0_simplified.subs({\n",
    "     sp.sqrt(4*w0**2 + 4*w0 +1) : (2*w0+1)\n",
    "\n",
    "}).simplify()\n",
    "\n",
    "display(Latex(\"This is rewritten as\"))\n",
    "\n",
    "display(Latex(r\"$\\Delta t(x) = $ \" + sp.latex(sp.log(exp_dt_2_above_0_simplified), mode='inline')))\n"
   ]
  },
  {
   "cell_type": "code",
   "execution_count": 455,
   "id": "9378c961-1373-41b0-9f47-16207e4ae16b",
   "metadata": {},
   "outputs": [
    {
     "data": {
      "text/latex": [
       "Placing all terms within the square-root"
      ],
      "text/plain": [
       "<IPython.core.display.Latex object>"
      ]
     },
     "metadata": {},
     "output_type": "display_data"
    },
    {
     "data": {
      "text/latex": [
       "$\\Delta t(x) = $ $\\log{\\left(\\sqrt{\\frac{16 w_{0}^{2} z^{2} - 20 w_{0}^{2} z + 4 w_{0}^{2} + 16 w_{0} z^{2} + 10 w_{0} z - 8 w_{0} + 4 z^{2} + 10 z + 4}{4 w_{0}^{2} z^{2} - 8 w_{0}^{2} z + 4 w_{0}^{2} + 4 w_{0} z^{2} + 4 w_{0} z - 8 w_{0} + z^{2} + 4 z + 4}} \\right)}$"
      ],
      "text/plain": [
       "<IPython.core.display.Latex object>"
      ]
     },
     "metadata": {},
     "output_type": "display_data"
    }
   ],
   "source": [
    "display(Latex(\"Placing all terms within the square-root\"))\n",
    "\n",
    "X=(exp_dt_2_above_0_simplified**2).expand().together()\n",
    "X = sp.sqrt(sp.numer(X).expand()/sp.denom(X))\n",
    "\n",
    "exp_dt_2_above_0_simplified = X\n",
    "\n",
    "display(Latex(r\"$\\Delta t(x) = $ \" + sp.latex(sp.log(exp_dt_2_above_0_simplified), mode='inline')))\n"
   ]
  },
  {
   "cell_type": "code",
   "execution_count": 456,
   "id": "283712c0-02df-44d0-9de4-ea6f5bfb2b7e",
   "metadata": {},
   "outputs": [
    {
     "data": {
      "text/latex": [
       "The inner part of the square-root has the form $\\frac{num}{den}$, which we replace with "
      ],
      "text/plain": [
       "<IPython.core.display.Latex object>"
      ]
     },
     "metadata": {},
     "output_type": "display_data"
    },
    {
     "data": {
      "text/latex": [
       "$\\frac{num}{den} \\mapsto \\frac{num-4den}{den} + 4$"
      ],
      "text/plain": [
       "<IPython.core.display.Latex object>"
      ]
     },
     "metadata": {},
     "output_type": "display_data"
    },
    {
     "data": {
      "text/latex": [
       "To obtain"
      ],
      "text/plain": [
       "<IPython.core.display.Latex object>"
      ]
     },
     "metadata": {},
     "output_type": "display_data"
    },
    {
     "data": {
      "text/latex": [
       "$\\Delta t(x) = $ $\\log{\\left(\\sqrt{\\frac{6 \\left(w_{0} - 1\\right)}{2 w_{0} z - 2 w_{0} + z + 2} + 4} \\right)}$"
      ],
      "text/plain": [
       "<IPython.core.display.Latex object>"
      ]
     },
     "metadata": {},
     "output_type": "display_data"
    }
   ],
   "source": [
    "display(Latex(r\"The inner part of the square-root has the form $\\frac{num}{den}$, which we replace with \"))\n",
    "display(Latex(r\"$\\frac{num}{den} \\mapsto \\frac{num-4den}{den} + 4$\"))\n",
    "display(Latex(r\"To obtain\"))\n",
    "\n",
    "X = exp_dt_2_above_0_simplified**2\n",
    "\n",
    "exp_dt_2_above_0_simplified = sp.sqrt(((sp.numer(X)-4*sp.denom(X))/sp.denom(X)).simplify() + 4)\n",
    "\n",
    "display(Latex(r\"$\\Delta t(x) = $ \" + sp.latex(sp.log(exp_dt_2_above_0_simplified), mode='inline')))\n",
    "\n"
   ]
  },
  {
   "cell_type": "code",
   "execution_count": 458,
   "id": "600e321b-e7fd-4de7-b734-01f5c26efc85",
   "metadata": {},
   "outputs": [
    {
     "data": {
      "text/latex": [
       "Then"
      ],
      "text/plain": [
       "<IPython.core.display.Latex object>"
      ]
     },
     "metadata": {},
     "output_type": "display_data"
    },
    {
     "data": {
      "text/latex": [
       "$\\Delta t(x) = $ $\\log{\\left(\\frac{6 \\left(w_{0} - 1\\right)}{2 \\cdot 4^{k} w_{0} + 4^{k} - 2 w_{0} + 2} + 4 \\right)} / 2$"
      ],
      "text/plain": [
       "<IPython.core.display.Latex object>"
      ]
     },
     "metadata": {},
     "output_type": "display_data"
    },
    {
     "data": {
      "text/latex": [
       "As desired"
      ],
      "text/plain": [
       "<IPython.core.display.Latex object>"
      ]
     },
     "metadata": {},
     "output_type": "display_data"
    }
   ],
   "source": [
    "display(Latex(r\"Then\"))\n",
    "\n",
    "dt_2_above_0_simplified = (sp.Rational(1,2)* sp.log(exp_dt_2_above_0_simplified**2)).subs(z, 4**k)\n",
    "\n",
    "display(Latex(r\"$\\Delta t(x) = $ \" + sp.latex(dt_2_above_0_simplified, mode='inline')))\n",
    "\n",
    "display(Latex(r\"As desired\"))"
   ]
  }
 ],
 "metadata": {
  "kernelspec": {
   "display_name": "Python 3 (ipykernel)",
   "language": "python",
   "name": "python3"
  },
  "language_info": {
   "codemirror_mode": {
    "name": "ipython",
    "version": 3
   },
   "file_extension": ".py",
   "mimetype": "text/x-python",
   "name": "python",
   "nbconvert_exporter": "python",
   "pygments_lexer": "ipython3",
   "version": "3.12.1"
  }
 },
 "nbformat": 4,
 "nbformat_minor": 5
}
