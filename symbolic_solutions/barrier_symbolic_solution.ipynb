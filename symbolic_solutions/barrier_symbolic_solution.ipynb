{
 "cells": [
  {
   "cell_type": "code",
   "execution_count": 8,
   "id": "d3d84fd4-1e24-4d0e-84df-555c19fce265",
   "metadata": {},
   "outputs": [],
   "source": [
    "import sympy as sp\n",
    "import numpy as np\n",
    "from IPython.display import display, Math, Latex\n",
    "import codecs\n",
    "import sage.all as sg"
   ]
  },
  {
   "cell_type": "markdown",
   "id": "809a38fe-5409-4f2c-92e0-83f99c134ba3",
   "metadata": {},
   "source": [
    "# Introduction"
   ]
  },
  {
   "cell_type": "markdown",
   "id": "16add9c3-a7a1-48a0-a86f-8e0f65023059",
   "metadata": {},
   "source": [
    "In this notebook a step-by-step symbolic solution to obtain the kernel $K(x|u)$ for the problem\n",
    "\n",
    "$f(x)(1+W(x) + W(x+1)) - W(x)f(x-1) - W(x+1)f(x+1) = g(x)$\n",
    "\n",
    "when  the weights are given by a barrier at $x= 0$ with \n",
    "\n",
    "$W(x) = \\left\\{\\begin{matrix}\n",
    "\\lambda\\,, & x\\neq 0\\\\\n",
    "\\mu, & x=0\\\\\n",
    "\\end{matrix}\\right.$\n",
    "\n",
    "The kernel is shown to be $K(x|u) = a(x)a(u)e^{-|t(x)-t(u)|}$, where $t(x)$ is given implicitly by its derivative $\\Delta t(x) = t(x)-t(x-1)$. We compute explicit solutions for $a(x)$ and $\\Delta t(x)$."
   ]
  },
  {
   "cell_type": "markdown",
   "id": "ebd69537-e830-4857-9e35-9c8f1c75fbc3",
   "metadata": {},
   "source": [
    "# Homogeneous solution\n",
    "\n",
    "The solution to the homogeneous problem with weights all equal to $\\lambda$ is given by $\\Delta t(x) = \\log(r(\\lambda))$. Where\n",
    "\n",
    "$r(\\lambda) =(1 + 2\\lambda + \\sqrt{4 \\lambda +1})/(2\\lambda)$\n",
    "\n",
    "This means we can write $\\lambda$ in terms of $r(\\lambda)$ as\n",
    "\n",
    "$\\lambda = \\frac{r(\\lambda)}{(r(\\lambda)-1)^2}$\n",
    "\n",
    "This substitution will be useful later"
   ]
  },
  {
   "cell_type": "code",
   "execution_count": 276,
   "id": "fa75df50-2575-4ae5-969e-c4eab6d31817",
   "metadata": {},
   "outputs": [],
   "source": [
    "x= sp.symbols('x')\n",
    "l_inv = x/((x-1)**2)\n",
    "r_fun = (1 + 2*x + sp.sqrt(4*x+1))/(2*x)"
   ]
  },
  {
   "cell_type": "markdown",
   "id": "ffd1e502-dfc3-4cb9-b767-0eb11c643e23",
   "metadata": {},
   "source": [
    "# General solution for the Barrier at $x_0 = 0$"
   ]
  },
  {
   "cell_type": "markdown",
   "id": "99834da4-593c-4689-8d82-8812d4b35de6",
   "metadata": {},
   "source": [
    "We begin by defining the weight function W(x)"
   ]
  },
  {
   "cell_type": "code",
   "execution_count": 235,
   "id": "e50f8f5e-acd7-4d36-a175-a16f18d9b964",
   "metadata": {
    "scrolled": true
   },
   "outputs": [
    {
     "data": {
      "text/latex": [
       "$W(x) = $ $\\begin{cases} \\frac{rl}{\\left(rl - 1\\right)^{2}} & \\text{for}\\: x < 0 \\\\\\frac{rmu}{\\left(rmu - 1\\right)^{2}} & \\text{for}\\: x = 0 \\\\\\frac{rl}{\\left(rl - 1\\right)^{2}} & \\text{for}\\: x > 0 \\end{cases}$"
      ],
      "text/plain": [
       "<IPython.core.display.Latex object>"
      ]
     },
     "metadata": {},
     "output_type": "display_data"
    }
   ],
   "source": [
    "l= sp.symbols('l', positive = True)\n",
    "mu= sp.symbols('mu', positive = True)\n",
    "n = sp.symbols('n')\n",
    "\n",
    "rmu = sp.symbols('rmu', positive = True)\n",
    "rl= sp.symbols('rl', positive = True)\n",
    "\n",
    "W = sp.Piecewise(\n",
    "    (l_inv.subs(x,rl), x < 0),\n",
    "    (l_inv.subs(x,rmu), sp.Eq(x,0)),\n",
    "    (l_inv.subs(x,rl), x > 0),\n",
    ")\n",
    "\n",
    "display(Latex(r\"$W(x) = $ \" + sp.latex(W, mode='inline')))"
   ]
  },
  {
   "cell_type": "markdown",
   "id": "1a6342ff-c5e1-4f57-a730-2d0b4f69e39f",
   "metadata": {},
   "source": [
    "# Computing B(x)"
   ]
  },
  {
   "cell_type": "markdown",
   "id": "4b4bc5c8-6854-41b2-8dff-b428ded8f290",
   "metadata": {},
   "source": [
    "$B(x-k)$ for $k>=0$ can be written in terms of $B(x) = \\frac{p}{q}$ with\n",
    "\n",
    "$  \\frac{\\text{numerator}(B(x-k))}{\\text{denominator}(B(x-k))}  =   \\begin{bmatrix}\n",
    "1+2\\lambda  & -\\lambda^2\\\\ \n",
    "1 & 0\n",
    "\\end{bmatrix}^k\n",
    "\\begin{bmatrix}\n",
    "p\\\\ \n",
    "r\n",
    "\\end{bmatrix} $"
   ]
  },
  {
   "cell_type": "code",
   "execution_count": 194,
   "id": "1cee6603-95ca-401d-b787-8b4474b92181",
   "metadata": {},
   "outputs": [
    {
     "data": {
      "text/latex": [
       "$\\displaystyle \\frac{bs \\left(\\frac{rl^{2} \\left(\\frac{rl^{2}}{rl^{2} - 2 rl + 1}\\right)^{k} \\left(rl - 1\\right)}{\\left(rl + 1\\right) \\left(rl^{2} - 2 rl + 1\\right)} + \\frac{\\left(- \\frac{rl}{rl + 1} + \\frac{1}{rl + 1}\\right) \\left(\\frac{1}{rl^{2} - 2 rl + 1}\\right)^{k}}{rl^{2} - 2 rl + 1}\\right) - \\frac{rl^{2} \\left(\\frac{rl^{2}}{rl^{2} - 2 rl + 1}\\right)^{k}}{\\left(rl^{2} - 1\\right) \\left(rl^{2} - 2 rl + 1\\right)} + \\frac{rl^{2} \\left(\\frac{1}{rl^{2} - 2 rl + 1}\\right)^{k}}{\\left(rl^{2} - 1\\right) \\left(rl^{2} - 2 rl + 1\\right)}}{bs \\left(\\frac{\\left(\\frac{rl^{2}}{rl^{2} - 2 rl + 1}\\right)^{k} \\left(rl - 1\\right)}{rl + 1} + \\left(- \\frac{rl}{rl + 1} + \\frac{1}{rl + 1}\\right) \\left(\\frac{1}{rl^{2} - 2 rl + 1}\\right)^{k}\\right) + \\frac{rl^{2} \\left(\\frac{1}{rl^{2} - 2 rl + 1}\\right)^{k}}{rl^{2} - 1} - \\frac{\\left(\\frac{rl^{2}}{rl^{2} - 2 rl + 1}\\right)^{k}}{rl^{2} - 1}}$"
      ],
      "text/plain": [
       "(bs*(rl**2*(rl**2/(rl**2 - 2*rl + 1))**k*(rl - 1)/((rl + 1)*(rl**2 - 2*rl + 1)) + (-rl/(rl + 1) + 1/(rl + 1))*(1/(rl**2 - 2*rl + 1))**k/(rl**2 - 2*rl + 1)) - rl**2*(rl**2/(rl**2 - 2*rl + 1))**k/((rl**2 - 1)*(rl**2 - 2*rl + 1)) + rl**2*(1/(rl**2 - 2*rl + 1))**k/((rl**2 - 1)*(rl**2 - 2*rl + 1)))/(bs*((rl**2/(rl**2 - 2*rl + 1))**k*(rl - 1)/(rl + 1) + (-rl/(rl + 1) + 1/(rl + 1))*(1/(rl**2 - 2*rl + 1))**k) + rl**2*(1/(rl**2 - 2*rl + 1))**k/(rl**2 - 1) - (rl**2/(rl**2 - 2*rl + 1))**k/(rl**2 - 1))"
      ]
     },
     "execution_count": 194,
     "metadata": {},
     "output_type": "execute_result"
    }
   ],
   "source": [
    "Bstep_mat = sp.Matrix([[1+2*l_inv.subs(x,rl), -l_inv.subs(x,rl)**2], [1, 0]])\n",
    "k = sp.symbols('k')\n",
    "bstart = sp.symbols('bs')\n",
    "P, D = Bstep_mat.diagonalize()\n",
    "Pinv = P.inv()\n",
    "\n",
    "Bsteps_mat = (P * (D**k) * Pinv)*sp.Matrix([[bstart], [1]])\n",
    "Bsteps_mat[0] = Bsteps_mat[0]#.simplify()\n",
    "Bsteps_mat[1] = Bsteps_mat[1]#.simplify()\n",
    "\n",
    "Bsteps = (Bsteps_mat[0]/Bsteps_mat[1])#.simplify()\n",
    "Bsteps"
   ]
  },
  {
   "cell_type": "markdown",
   "id": "c4b25474-9834-41cf-8ed8-8026b968299d",
   "metadata": {},
   "source": [
    "## B as a pure function"
   ]
  },
  {
   "cell_type": "code",
   "execution_count": 195,
   "id": "53a64f9b-272d-4810-9967-be0397e730ce",
   "metadata": {},
   "outputs": [],
   "source": [
    "Bx1 = (l_inv.subs(x,rl)*rl)#.simplify()\n",
    "Bx0 = ((1 + W.subs(x,0)+ W.subs(x,1) - W.subs(x,1)**2/Bx1))#.simplify()\n",
    "Bxm1 =  ((1 + W.subs(x,-1)+ W.subs(x,0) - W.subs(x,0)**2/Bx0))#.simplify()\n",
    "B_bwd_steps = Bsteps.replace(k,-x-1).replace(bstart, Bxm1)#.simplify()\n",
    "\n",
    "B = sp.Piecewise(\n",
    "    (Bx1, x > 0),\n",
    "    (Bx0 , sp.Eq(x,0)), #at x==0\n",
    "    (B_bwd_steps, x<0)\n",
    ")"
   ]
  },
  {
   "cell_type": "markdown",
   "id": "87f8e1ae-1234-45b1-afe7-0c174b223209",
   "metadata": {},
   "source": [
    "# Computing B*\n",
    "\n",
    "B* can be computed by symmetry, only using a different b0"
   ]
  },
  {
   "cell_type": "code",
   "execution_count": 196,
   "id": "376e999e-67fe-4340-9591-95a139a4c1d9",
   "metadata": {},
   "outputs": [],
   "source": [
    "B_star_xm2 = (l_inv.subs(x,rl)*rl)#.simplify()\n",
    "B_star_xm1 =  ((1 + W.subs(x,-1)+ W.subs(x,0) - W.subs(x,-1)**2/B_star_xm2))#.simplify()\n",
    "B_star_x0 =( (1 + W.subs(x,0)+ W.subs(x,1) - W.subs(x,0)**2/B_star_xm1))#.simplify()\n",
    "B_star_fwd_steps = Bsteps.replace(k,x).replace(bstart, B_star_x0)#.simplify()\n",
    "\n",
    "B_star = sp.Piecewise(\n",
    "    (B_star_xm2, x < -1),\n",
    "    (B_star_xm1 , sp.Eq(x,-1)), #at x==-1\n",
    "    (B_star_fwd_steps, x>-1)\n",
    ")"
   ]
  },
  {
   "cell_type": "markdown",
   "id": "efb979e2-5697-403f-84d0-1105e7aea395",
   "metadata": {},
   "source": [
    "# Computing a(x) and dt(x)"
   ]
  },
  {
   "cell_type": "code",
   "execution_count": 294,
   "id": "86fe31e1-b304-4cd7-8181-f2cb95376b29",
   "metadata": {},
   "outputs": [],
   "source": [
    "asqr = 1/(B- W*W/(B_star.replace(x,x-1)))\n",
    "\n",
    "dt = sp.log((2*sp.sqrt(asqr.replace(x,x-1)*asqr)*W)/(-1 + sp.sqrt(4*asqr.replace(x,x-1)*asqr*W*W+1)))"
   ]
  },
  {
   "cell_type": "markdown",
   "id": "26bf9af7-ab4d-48ed-a6eb-d17bfc966321",
   "metadata": {},
   "source": [
    "We use the Sage library to perform simplifications on the square-root terms"
   ]
  },
  {
   "cell_type": "code",
   "execution_count": 295,
   "id": "78343f1b-c1f1-42ca-a0da-4d4aa0806c4e",
   "metadata": {},
   "outputs": [],
   "source": [
    "sage_dt = dt.subs(x,0)\n",
    "sage_dt = sage_dt._sage_()\n",
    "simplified_sage = sage_dt.simplify_full().canonicalize_radical().simplify_log()"
   ]
  },
  {
   "cell_type": "code",
   "execution_count": 322,
   "id": "b9cf5994-7014-405f-9e00-4b1dbf0738c3",
   "metadata": {},
   "outputs": [
    {
     "data": {
      "text/latex": [
       "$\\displaystyle \\log{\\left(\\frac{l \\left(rl - 1\\right)}{\\mu} + 1 \\right)}$"
      ],
      "text/plain": [
       "log(l*(rl - 1)/mu + 1)"
      ]
     },
     "execution_count": 322,
     "metadata": {},
     "output_type": "execute_result"
    }
   ],
   "source": [
    "dt_simplified = simplified_sage._sympy_()\n",
    "dt_simplified = sp.exp(dt_simplified.subs({'rl':rl,'rmu':rmu}))\n",
    "dt_simplified = dt_simplified.subs(rmu, r_fun.subs(x,mu))._sage_().canonicalize_radical().simplify()._sympy_()\n",
    "dt_simplified = (dt_simplified-1).simplify()+1\n",
    "dt_simplified = sp.log(dt_simplified).subs('rl',rl)\n",
    "#finally, using that rl = l*(rl-1)^2\n",
    "dt_simplified = dt_simplified.subs(rl/(rl-1),l*(rl-1))\n",
    "dt_simplified"
   ]
  }
 ],
 "metadata": {
  "kernelspec": {
   "display_name": "Python 3 (ipykernel)",
   "language": "python",
   "name": "python3"
  },
  "language_info": {
   "codemirror_mode": {
    "name": "ipython",
    "version": 3
   },
   "file_extension": ".py",
   "mimetype": "text/x-python",
   "name": "python",
   "nbconvert_exporter": "python",
   "pygments_lexer": "ipython3",
   "version": "3.8.10"
  }
 },
 "nbformat": 4,
 "nbformat_minor": 5
}
